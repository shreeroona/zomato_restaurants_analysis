{
 "cells": [
  {
   "cell_type": "markdown",
   "id": "18125e7e",
   "metadata": {},
   "source": [
    "# Web Analytics Assignmnet\n",
    "## Zomato Data Analysis - Top 200 Restaurants\n",
    "### Name : Roona Shree\n",
    "### Roll no: E21019"
   ]
  },
  {
   "cell_type": "code",
   "execution_count": null,
   "id": "1414de34",
   "metadata": {},
   "outputs": [],
   "source": []
  },
  {
   "cell_type": "code",
   "execution_count": 2,
   "id": "34fda3aa",
   "metadata": {},
   "outputs": [],
   "source": [
    "#import required libraries\n",
    "import pandas as pd\n",
    "import numpy as np\n",
    "import matplotlib.pyplot as plt\n",
    "import seaborn as sns\n",
    "import warnings\n",
    "warnings.filterwarnings('ignore')"
   ]
  },
  {
   "cell_type": "code",
   "execution_count": 5,
   "id": "2f65edd0",
   "metadata": {},
   "outputs": [],
   "source": [
    "#REad the datasets\n",
    "df = pd.read_csv(\"Bangalore_Restaurants.csv\")"
   ]
  },
  {
   "cell_type": "code",
   "execution_count": 6,
   "id": "889c70c1",
   "metadata": {
    "scrolled": true
   },
   "outputs": [
    {
     "data": {
      "text/html": [
       "<div>\n",
       "<style scoped>\n",
       "    .dataframe tbody tr th:only-of-type {\n",
       "        vertical-align: middle;\n",
       "    }\n",
       "\n",
       "    .dataframe tbody tr th {\n",
       "        vertical-align: top;\n",
       "    }\n",
       "\n",
       "    .dataframe thead th {\n",
       "        text-align: right;\n",
       "    }\n",
       "</style>\n",
       "<table border=\"1\" class=\"dataframe\">\n",
       "  <thead>\n",
       "    <tr style=\"text-align: right;\">\n",
       "      <th></th>\n",
       "      <th>Restaurant_Name</th>\n",
       "      <th>Category</th>\n",
       "      <th>Pricing_for_2</th>\n",
       "      <th>Locality</th>\n",
       "      <th>Dining_Rating</th>\n",
       "      <th>Dining_Review_Count</th>\n",
       "      <th>Delivery_Rating</th>\n",
       "      <th>Delivery_Rating_Count</th>\n",
       "      <th>Website</th>\n",
       "      <th>Address</th>\n",
       "      <th>Phone_No</th>\n",
       "      <th>Latitude</th>\n",
       "      <th>Longitude</th>\n",
       "    </tr>\n",
       "  </thead>\n",
       "  <tbody>\n",
       "    <tr>\n",
       "      <th>0</th>\n",
       "      <td>Burma Burma</td>\n",
       "      <td>Asian, Burmese, Bubble Tea, Salad, Tea, Desser...</td>\n",
       "      <td>1500</td>\n",
       "      <td>Indiranagar, Bangalore</td>\n",
       "      <td>4.9</td>\n",
       "      <td>2790.0</td>\n",
       "      <td>4.5</td>\n",
       "      <td>838.0</td>\n",
       "      <td>https://www.zomato.com/bangalore/burma-burma-i...</td>\n",
       "      <td>607, Ground Floor, 12th Main, Hal 2nd Stage, I...</td>\n",
       "      <td>9.18043E+11</td>\n",
       "      <td>12.970394</td>\n",
       "      <td>77.644713</td>\n",
       "    </tr>\n",
       "    <tr>\n",
       "      <th>1</th>\n",
       "      <td>Windmills Craftworks</td>\n",
       "      <td>Continental, Fast Food, Kebab, Beverages, Ital...</td>\n",
       "      <td>2500</td>\n",
       "      <td>Windmills Craftworks, Bangalore</td>\n",
       "      <td>4.9</td>\n",
       "      <td>6543.0</td>\n",
       "      <td>4.2</td>\n",
       "      <td>524.0</td>\n",
       "      <td>https://www.zomato.com/bangalore/windmills-cra...</td>\n",
       "      <td>78, Immaine Epip Industrial Area, Whitefield B...</td>\n",
       "      <td>9.1888E+11</td>\n",
       "      <td>12.982413</td>\n",
       "      <td>77.721979</td>\n",
       "    </tr>\n",
       "    <tr>\n",
       "      <th>2</th>\n",
       "      <td>CTR Shri Sagar</td>\n",
       "      <td>South Indian</td>\n",
       "      <td>150</td>\n",
       "      <td>Malleshwaram, Bangalore</td>\n",
       "      <td>4.9</td>\n",
       "      <td>4837.0</td>\n",
       "      <td>4.3</td>\n",
       "      <td>22100.0</td>\n",
       "      <td>https://www.zomato.com/bangalore/ctr-shri-saga...</td>\n",
       "      <td>7th Cross, Margosa Road, Malleshwaram, Bangalore</td>\n",
       "      <td>9.18023E+11</td>\n",
       "      <td>12.998270</td>\n",
       "      <td>77.569455</td>\n",
       "    </tr>\n",
       "    <tr>\n",
       "      <th>3</th>\n",
       "      <td>Brahmin's Coffee Bar</td>\n",
       "      <td>South Indian</td>\n",
       "      <td>100</td>\n",
       "      <td>Basavanagudi, Bangalore</td>\n",
       "      <td>4.9</td>\n",
       "      <td>2975.0</td>\n",
       "      <td>4.4</td>\n",
       "      <td>372.0</td>\n",
       "      <td>https://www.zomato.com/bangalore/brahmins-coff...</td>\n",
       "      <td>Ranga Rao Road, Near Basavanagudi, Bangalore</td>\n",
       "      <td>9.19845E+11</td>\n",
       "      <td>12.954043</td>\n",
       "      <td>77.568865</td>\n",
       "    </tr>\n",
       "    <tr>\n",
       "      <th>4</th>\n",
       "      <td>Milano Ice Cream</td>\n",
       "      <td>Desserts, Ice Cream, Beverages</td>\n",
       "      <td>400</td>\n",
       "      <td>Indiranagar, Bangalore</td>\n",
       "      <td>4.9</td>\n",
       "      <td>2575.0</td>\n",
       "      <td>4.4</td>\n",
       "      <td>1180.0</td>\n",
       "      <td>https://www.zomato.com/bangalore/milano-ice-cr...</td>\n",
       "      <td>460, 2nd Cross, Krishna Temple Road, Indiranag...</td>\n",
       "      <td>9.18041E+11</td>\n",
       "      <td>12.979121</td>\n",
       "      <td>77.644039</td>\n",
       "    </tr>\n",
       "  </tbody>\n",
       "</table>\n",
       "</div>"
      ],
      "text/plain": [
       "        Restaurant_Name                                           Category  \\\n",
       "0           Burma Burma  Asian, Burmese, Bubble Tea, Salad, Tea, Desser...   \n",
       "1  Windmills Craftworks  Continental, Fast Food, Kebab, Beverages, Ital...   \n",
       "2        CTR Shri Sagar                                       South Indian   \n",
       "3  Brahmin's Coffee Bar                                       South Indian   \n",
       "4      Milano Ice Cream                     Desserts, Ice Cream, Beverages   \n",
       "\n",
       "   Pricing_for_2                          Locality  Dining_Rating  \\\n",
       "0           1500            Indiranagar, Bangalore            4.9   \n",
       "1           2500   Windmills Craftworks, Bangalore            4.9   \n",
       "2            150           Malleshwaram, Bangalore            4.9   \n",
       "3            100           Basavanagudi, Bangalore            4.9   \n",
       "4            400            Indiranagar, Bangalore            4.9   \n",
       "\n",
       "   Dining_Review_Count  Delivery_Rating  Delivery_Rating_Count  \\\n",
       "0               2790.0              4.5                  838.0   \n",
       "1               6543.0              4.2                  524.0   \n",
       "2               4837.0              4.3                22100.0   \n",
       "3               2975.0              4.4                  372.0   \n",
       "4               2575.0              4.4                 1180.0   \n",
       "\n",
       "                                             Website  \\\n",
       "0  https://www.zomato.com/bangalore/burma-burma-i...   \n",
       "1  https://www.zomato.com/bangalore/windmills-cra...   \n",
       "2  https://www.zomato.com/bangalore/ctr-shri-saga...   \n",
       "3  https://www.zomato.com/bangalore/brahmins-coff...   \n",
       "4  https://www.zomato.com/bangalore/milano-ice-cr...   \n",
       "\n",
       "                                             Address     Phone_No   Latitude  \\\n",
       "0  607, Ground Floor, 12th Main, Hal 2nd Stage, I...  9.18043E+11  12.970394   \n",
       "1  78, Immaine Epip Industrial Area, Whitefield B...   9.1888E+11  12.982413   \n",
       "2   7th Cross, Margosa Road, Malleshwaram, Bangalore  9.18023E+11  12.998270   \n",
       "3       Ranga Rao Road, Near Basavanagudi, Bangalore  9.19845E+11  12.954043   \n",
       "4  460, 2nd Cross, Krishna Temple Road, Indiranag...  9.18041E+11  12.979121   \n",
       "\n",
       "   Longitude  \n",
       "0  77.644713  \n",
       "1  77.721979  \n",
       "2  77.569455  \n",
       "3  77.568865  \n",
       "4  77.644039  "
      ]
     },
     "execution_count": 6,
     "metadata": {},
     "output_type": "execute_result"
    }
   ],
   "source": [
    "df.head(5)"
   ]
  },
  {
   "cell_type": "markdown",
   "id": "34661e3f",
   "metadata": {},
   "source": [
    "# Data Preparations"
   ]
  },
  {
   "cell_type": "code",
   "execution_count": 8,
   "id": "99ab5253",
   "metadata": {},
   "outputs": [
    {
     "name": "stdout",
     "output_type": "stream",
     "text": [
      "<class 'pandas.core.frame.DataFrame'>\n",
      "RangeIndex: 5109 entries, 0 to 5108\n",
      "Data columns (total 13 columns):\n",
      " #   Column                 Non-Null Count  Dtype  \n",
      "---  ------                 --------------  -----  \n",
      " 0   Restaurant_Name        5109 non-null   object \n",
      " 1   Category               5109 non-null   object \n",
      " 2   Pricing_for_2          5109 non-null   int64  \n",
      " 3   Locality               5109 non-null   object \n",
      " 4   Dining_Rating          5101 non-null   float64\n",
      " 5   Dining_Review_Count    5101 non-null   float64\n",
      " 6   Delivery_Rating        3697 non-null   float64\n",
      " 7   Delivery_Rating_Count  5101 non-null   float64\n",
      " 8   Website                5109 non-null   object \n",
      " 9   Address                5109 non-null   object \n",
      " 10  Phone_No               5109 non-null   object \n",
      " 11  Latitude               5109 non-null   float64\n",
      " 12  Longitude              5109 non-null   float64\n",
      "dtypes: float64(6), int64(1), object(6)\n",
      "memory usage: 519.0+ KB\n"
     ]
    }
   ],
   "source": [
    "df.info()"
   ]
  },
  {
   "cell_type": "code",
   "execution_count": 9,
   "id": "fef584bd",
   "metadata": {},
   "outputs": [
    {
     "data": {
      "text/html": [
       "<div>\n",
       "<style scoped>\n",
       "    .dataframe tbody tr th:only-of-type {\n",
       "        vertical-align: middle;\n",
       "    }\n",
       "\n",
       "    .dataframe tbody tr th {\n",
       "        vertical-align: top;\n",
       "    }\n",
       "\n",
       "    .dataframe thead th {\n",
       "        text-align: right;\n",
       "    }\n",
       "</style>\n",
       "<table border=\"1\" class=\"dataframe\">\n",
       "  <thead>\n",
       "    <tr style=\"text-align: right;\">\n",
       "      <th></th>\n",
       "      <th>Dining_Rating</th>\n",
       "      <th>Delivery_Rating_Count</th>\n",
       "      <th>Delivery_Rating</th>\n",
       "    </tr>\n",
       "  </thead>\n",
       "  <tbody>\n",
       "    <tr>\n",
       "      <th>5099</th>\n",
       "      <td>3.3</td>\n",
       "      <td>0.0</td>\n",
       "      <td>NaN</td>\n",
       "    </tr>\n",
       "    <tr>\n",
       "      <th>5100</th>\n",
       "      <td>3.3</td>\n",
       "      <td>0.0</td>\n",
       "      <td>NaN</td>\n",
       "    </tr>\n",
       "    <tr>\n",
       "      <th>5102</th>\n",
       "      <td>3.3</td>\n",
       "      <td>0.0</td>\n",
       "      <td>NaN</td>\n",
       "    </tr>\n",
       "    <tr>\n",
       "      <th>5107</th>\n",
       "      <td>3.3</td>\n",
       "      <td>0.0</td>\n",
       "      <td>NaN</td>\n",
       "    </tr>\n",
       "    <tr>\n",
       "      <th>5108</th>\n",
       "      <td>3.3</td>\n",
       "      <td>11.0</td>\n",
       "      <td>NaN</td>\n",
       "    </tr>\n",
       "  </tbody>\n",
       "</table>\n",
       "</div>"
      ],
      "text/plain": [
       "      Dining_Rating  Delivery_Rating_Count  Delivery_Rating\n",
       "5099            3.3                    0.0              NaN\n",
       "5100            3.3                    0.0              NaN\n",
       "5102            3.3                    0.0              NaN\n",
       "5107            3.3                    0.0              NaN\n",
       "5108            3.3                   11.0              NaN"
      ]
     },
     "execution_count": 9,
     "metadata": {},
     "output_type": "execute_result"
    }
   ],
   "source": [
    "df[[\"Dining_Rating\",\"Delivery_Rating_Count\",\"Delivery_Rating\"]][df['Delivery_Rating'].isnull()].tail(5)"
   ]
  },
  {
   "cell_type": "markdown",
   "id": "2e828e5b",
   "metadata": {},
   "source": [
    "### Missing Value imputations"
   ]
  },
  {
   "cell_type": "code",
   "execution_count": 11,
   "id": "d780a8d3",
   "metadata": {},
   "outputs": [],
   "source": [
    "#If the delivery rating count is not Zero and delivery rating is null than impute the missing value with the median rating\n",
    "#Choosing median instead of mean - as mean is may overestimate the ratings\n",
    "df.Delivery_Rating[(df['Delivery_Rating_Count'] >0) & (df['Delivery_Rating'].isnull())] =df['Delivery_Rating'].median()"
   ]
  },
  {
   "cell_type": "code",
   "execution_count": 16,
   "id": "74f02ef4",
   "metadata": {},
   "outputs": [],
   "source": [
    "#setting remainig null values in delivery rating to 0\n",
    "df.Delivery_Rating=df[\"Delivery_Rating\"].replace(to_replace = np.NaN,value =0)"
   ]
  },
  {
   "cell_type": "code",
   "execution_count": 14,
   "id": "67bb91ba",
   "metadata": {},
   "outputs": [],
   "source": [
    "#imputing missing delivery ratining count as median where delivery rating count is not zero\n",
    "df.Delivery_Rating_Count[(df['Delivery_Rating_Count'].isnull() ) & (df['Delivery_Rating']>0)] =df['Delivery_Rating_Count'].median()"
   ]
  },
  {
   "cell_type": "code",
   "execution_count": 17,
   "id": "0331de11",
   "metadata": {},
   "outputs": [],
   "source": [
    "#setting remaining nulls to 0\n",
    "df.Delivery_Rating_Count=df[\"Delivery_Rating_Count\"].replace(to_replace = np.NaN,value =0)"
   ]
  },
  {
   "cell_type": "code",
   "execution_count": 18,
   "id": "5dcf7744",
   "metadata": {},
   "outputs": [
    {
     "data": {
      "text/html": [
       "<div>\n",
       "<style scoped>\n",
       "    .dataframe tbody tr th:only-of-type {\n",
       "        vertical-align: middle;\n",
       "    }\n",
       "\n",
       "    .dataframe tbody tr th {\n",
       "        vertical-align: top;\n",
       "    }\n",
       "\n",
       "    .dataframe thead th {\n",
       "        text-align: right;\n",
       "    }\n",
       "</style>\n",
       "<table border=\"1\" class=\"dataframe\">\n",
       "  <thead>\n",
       "    <tr style=\"text-align: right;\">\n",
       "      <th></th>\n",
       "      <th>Dining_Rating</th>\n",
       "      <th>Dining_Review_Count</th>\n",
       "      <th>Delivery_Rating</th>\n",
       "    </tr>\n",
       "  </thead>\n",
       "  <tbody>\n",
       "    <tr>\n",
       "      <th>233</th>\n",
       "      <td>NaN</td>\n",
       "      <td>NaN</td>\n",
       "      <td>0.0</td>\n",
       "    </tr>\n",
       "    <tr>\n",
       "      <th>616</th>\n",
       "      <td>NaN</td>\n",
       "      <td>NaN</td>\n",
       "      <td>0.0</td>\n",
       "    </tr>\n",
       "    <tr>\n",
       "      <th>781</th>\n",
       "      <td>NaN</td>\n",
       "      <td>NaN</td>\n",
       "      <td>0.0</td>\n",
       "    </tr>\n",
       "    <tr>\n",
       "      <th>953</th>\n",
       "      <td>NaN</td>\n",
       "      <td>NaN</td>\n",
       "      <td>0.0</td>\n",
       "    </tr>\n",
       "    <tr>\n",
       "      <th>1288</th>\n",
       "      <td>NaN</td>\n",
       "      <td>NaN</td>\n",
       "      <td>0.0</td>\n",
       "    </tr>\n",
       "    <tr>\n",
       "      <th>1502</th>\n",
       "      <td>NaN</td>\n",
       "      <td>NaN</td>\n",
       "      <td>0.0</td>\n",
       "    </tr>\n",
       "    <tr>\n",
       "      <th>2766</th>\n",
       "      <td>NaN</td>\n",
       "      <td>NaN</td>\n",
       "      <td>3.2</td>\n",
       "    </tr>\n",
       "    <tr>\n",
       "      <th>3916</th>\n",
       "      <td>NaN</td>\n",
       "      <td>NaN</td>\n",
       "      <td>3.1</td>\n",
       "    </tr>\n",
       "  </tbody>\n",
       "</table>\n",
       "</div>"
      ],
      "text/plain": [
       "      Dining_Rating  Dining_Review_Count  Delivery_Rating\n",
       "233             NaN                  NaN              0.0\n",
       "616             NaN                  NaN              0.0\n",
       "781             NaN                  NaN              0.0\n",
       "953             NaN                  NaN              0.0\n",
       "1288            NaN                  NaN              0.0\n",
       "1502            NaN                  NaN              0.0\n",
       "2766            NaN                  NaN              3.2\n",
       "3916            NaN                  NaN              3.1"
      ]
     },
     "execution_count": 18,
     "metadata": {},
     "output_type": "execute_result"
    }
   ],
   "source": [
    "df[[\"Dining_Rating\",\"Dining_Review_Count\",\"Delivery_Rating\"]][df['Dining_Rating'].isnull()]"
   ]
  },
  {
   "cell_type": "code",
   "execution_count": 19,
   "id": "2545d821",
   "metadata": {},
   "outputs": [],
   "source": [
    "df.Dining_Rating=df[\"Dining_Rating\"].replace(to_replace = np.NaN,value =0)\n",
    "df.Dining_Review_Count=df[\"Dining_Review_Count\"].replace(to_replace = np.NaN,value =0)"
   ]
  },
  {
   "cell_type": "code",
   "execution_count": 20,
   "id": "cc531336",
   "metadata": {},
   "outputs": [
    {
     "name": "stdout",
     "output_type": "stream",
     "text": [
      "<class 'pandas.core.frame.DataFrame'>\n",
      "RangeIndex: 5109 entries, 0 to 5108\n",
      "Data columns (total 13 columns):\n",
      " #   Column                 Non-Null Count  Dtype  \n",
      "---  ------                 --------------  -----  \n",
      " 0   Restaurant_Name        5109 non-null   object \n",
      " 1   Category               5109 non-null   object \n",
      " 2   Pricing_for_2          5109 non-null   int64  \n",
      " 3   Locality               5109 non-null   object \n",
      " 4   Dining_Rating          5109 non-null   float64\n",
      " 5   Dining_Review_Count    5109 non-null   float64\n",
      " 6   Delivery_Rating        5109 non-null   float64\n",
      " 7   Delivery_Rating_Count  5109 non-null   float64\n",
      " 8   Website                5109 non-null   object \n",
      " 9   Address                5109 non-null   object \n",
      " 10  Phone_No               5109 non-null   object \n",
      " 11  Latitude               5109 non-null   float64\n",
      " 12  Longitude              5109 non-null   float64\n",
      "dtypes: float64(6), int64(1), object(6)\n",
      "memory usage: 519.0+ KB\n"
     ]
    }
   ],
   "source": [
    "df.info()"
   ]
  },
  {
   "cell_type": "code",
   "execution_count": 21,
   "id": "1485f3b6",
   "metadata": {},
   "outputs": [],
   "source": [
    "#removing duplicates\n",
    "df = df.drop_duplicates(subset=['Restaurant_Name','Address'])"
   ]
  },
  {
   "cell_type": "code",
   "execution_count": 22,
   "id": "282376d4",
   "metadata": {},
   "outputs": [
    {
     "name": "stdout",
     "output_type": "stream",
     "text": [
      "<class 'pandas.core.frame.DataFrame'>\n",
      "Int64Index: 5003 entries, 0 to 5108\n",
      "Data columns (total 13 columns):\n",
      " #   Column                 Non-Null Count  Dtype  \n",
      "---  ------                 --------------  -----  \n",
      " 0   Restaurant_Name        5003 non-null   object \n",
      " 1   Category               5003 non-null   object \n",
      " 2   Pricing_for_2          5003 non-null   int64  \n",
      " 3   Locality               5003 non-null   object \n",
      " 4   Dining_Rating          5003 non-null   float64\n",
      " 5   Dining_Review_Count    5003 non-null   float64\n",
      " 6   Delivery_Rating        5003 non-null   float64\n",
      " 7   Delivery_Rating_Count  5003 non-null   float64\n",
      " 8   Website                5003 non-null   object \n",
      " 9   Address                5003 non-null   object \n",
      " 10  Phone_No               5003 non-null   object \n",
      " 11  Latitude               5003 non-null   float64\n",
      " 12  Longitude              5003 non-null   float64\n",
      "dtypes: float64(6), int64(1), object(6)\n",
      "memory usage: 547.2+ KB\n"
     ]
    }
   ],
   "source": [
    "df.info()"
   ]
  },
  {
   "cell_type": "code",
   "execution_count": 23,
   "id": "f816c5da",
   "metadata": {},
   "outputs": [],
   "source": [
    "#fixing the index of dataframe\n",
    "new_index = list(range(0,5003))"
   ]
  },
  {
   "cell_type": "code",
   "execution_count": 24,
   "id": "581d1bfc",
   "metadata": {},
   "outputs": [
    {
     "data": {
      "text/html": [
       "<div>\n",
       "<style scoped>\n",
       "    .dataframe tbody tr th:only-of-type {\n",
       "        vertical-align: middle;\n",
       "    }\n",
       "\n",
       "    .dataframe tbody tr th {\n",
       "        vertical-align: top;\n",
       "    }\n",
       "\n",
       "    .dataframe thead th {\n",
       "        text-align: right;\n",
       "    }\n",
       "</style>\n",
       "<table border=\"1\" class=\"dataframe\">\n",
       "  <thead>\n",
       "    <tr style=\"text-align: right;\">\n",
       "      <th></th>\n",
       "      <th>Restaurant_Name</th>\n",
       "      <th>Category</th>\n",
       "      <th>Pricing_for_2</th>\n",
       "      <th>Locality</th>\n",
       "      <th>Dining_Rating</th>\n",
       "      <th>Dining_Review_Count</th>\n",
       "      <th>Delivery_Rating</th>\n",
       "      <th>Delivery_Rating_Count</th>\n",
       "      <th>Website</th>\n",
       "      <th>Address</th>\n",
       "      <th>Phone_No</th>\n",
       "      <th>Latitude</th>\n",
       "      <th>Longitude</th>\n",
       "    </tr>\n",
       "  </thead>\n",
       "  <tbody>\n",
       "    <tr>\n",
       "      <th>0</th>\n",
       "      <td>Burma Burma</td>\n",
       "      <td>Asian, Burmese, Bubble Tea, Salad, Tea, Desser...</td>\n",
       "      <td>1500.0</td>\n",
       "      <td>Indiranagar, Bangalore</td>\n",
       "      <td>4.9</td>\n",
       "      <td>2790.0</td>\n",
       "      <td>4.5</td>\n",
       "      <td>838.0</td>\n",
       "      <td>https://www.zomato.com/bangalore/burma-burma-i...</td>\n",
       "      <td>607, Ground Floor, 12th Main, Hal 2nd Stage, I...</td>\n",
       "      <td>9.18043E+11</td>\n",
       "      <td>12.970394</td>\n",
       "      <td>77.644713</td>\n",
       "    </tr>\n",
       "    <tr>\n",
       "      <th>1</th>\n",
       "      <td>Windmills Craftworks</td>\n",
       "      <td>Continental, Fast Food, Kebab, Beverages, Ital...</td>\n",
       "      <td>2500.0</td>\n",
       "      <td>Windmills Craftworks, Bangalore</td>\n",
       "      <td>4.9</td>\n",
       "      <td>6543.0</td>\n",
       "      <td>4.2</td>\n",
       "      <td>524.0</td>\n",
       "      <td>https://www.zomato.com/bangalore/windmills-cra...</td>\n",
       "      <td>78, Immaine Epip Industrial Area, Whitefield B...</td>\n",
       "      <td>9.1888E+11</td>\n",
       "      <td>12.982413</td>\n",
       "      <td>77.721979</td>\n",
       "    </tr>\n",
       "    <tr>\n",
       "      <th>2</th>\n",
       "      <td>CTR Shri Sagar</td>\n",
       "      <td>South Indian</td>\n",
       "      <td>150.0</td>\n",
       "      <td>Malleshwaram, Bangalore</td>\n",
       "      <td>4.9</td>\n",
       "      <td>4837.0</td>\n",
       "      <td>4.3</td>\n",
       "      <td>22100.0</td>\n",
       "      <td>https://www.zomato.com/bangalore/ctr-shri-saga...</td>\n",
       "      <td>7th Cross, Margosa Road, Malleshwaram, Bangalore</td>\n",
       "      <td>9.18023E+11</td>\n",
       "      <td>12.998270</td>\n",
       "      <td>77.569455</td>\n",
       "    </tr>\n",
       "    <tr>\n",
       "      <th>3</th>\n",
       "      <td>Brahmin's Coffee Bar</td>\n",
       "      <td>South Indian</td>\n",
       "      <td>100.0</td>\n",
       "      <td>Basavanagudi, Bangalore</td>\n",
       "      <td>4.9</td>\n",
       "      <td>2975.0</td>\n",
       "      <td>4.4</td>\n",
       "      <td>372.0</td>\n",
       "      <td>https://www.zomato.com/bangalore/brahmins-coff...</td>\n",
       "      <td>Ranga Rao Road, Near Basavanagudi, Bangalore</td>\n",
       "      <td>9.19845E+11</td>\n",
       "      <td>12.954043</td>\n",
       "      <td>77.568865</td>\n",
       "    </tr>\n",
       "    <tr>\n",
       "      <th>4</th>\n",
       "      <td>Milano Ice Cream</td>\n",
       "      <td>Desserts, Ice Cream, Beverages</td>\n",
       "      <td>400.0</td>\n",
       "      <td>Indiranagar, Bangalore</td>\n",
       "      <td>4.9</td>\n",
       "      <td>2575.0</td>\n",
       "      <td>4.4</td>\n",
       "      <td>1180.0</td>\n",
       "      <td>https://www.zomato.com/bangalore/milano-ice-cr...</td>\n",
       "      <td>460, 2nd Cross, Krishna Temple Road, Indiranag...</td>\n",
       "      <td>9.18041E+11</td>\n",
       "      <td>12.979121</td>\n",
       "      <td>77.644039</td>\n",
       "    </tr>\n",
       "    <tr>\n",
       "      <th>...</th>\n",
       "      <td>...</td>\n",
       "      <td>...</td>\n",
       "      <td>...</td>\n",
       "      <td>...</td>\n",
       "      <td>...</td>\n",
       "      <td>...</td>\n",
       "      <td>...</td>\n",
       "      <td>...</td>\n",
       "      <td>...</td>\n",
       "      <td>...</td>\n",
       "      <td>...</td>\n",
       "      <td>...</td>\n",
       "      <td>...</td>\n",
       "    </tr>\n",
       "    <tr>\n",
       "      <th>4998</th>\n",
       "      <td>Butter And Sauce</td>\n",
       "      <td>North Indian, Chinese, Street Food, Biryani</td>\n",
       "      <td>400.0</td>\n",
       "      <td>HSR, Bangalore</td>\n",
       "      <td>3.3</td>\n",
       "      <td>4.0</td>\n",
       "      <td>3.9</td>\n",
       "      <td>19.0</td>\n",
       "      <td>https://www.zomato.com/bangalore/butter-and-sa...</td>\n",
       "      <td>757, Thara Vihar Food Court, 20th Main Road, G...</td>\n",
       "      <td>9.18073E+11</td>\n",
       "      <td>12.909674</td>\n",
       "      <td>77.644651</td>\n",
       "    </tr>\n",
       "    <tr>\n",
       "      <th>4999</th>\n",
       "      <td>New Ambur Hot Dum Biryani</td>\n",
       "      <td>Biryani, North Indian</td>\n",
       "      <td>200.0</td>\n",
       "      <td>Mysore Road, Bangalore</td>\n",
       "      <td>3.3</td>\n",
       "      <td>9.0</td>\n",
       "      <td>0.0</td>\n",
       "      <td>0.0</td>\n",
       "      <td>https://www.zomato.com/bangalore/new-ambur-hot...</td>\n",
       "      <td>Near BHEL, Mysore Road, Bangalore</td>\n",
       "      <td>9.17975E+11</td>\n",
       "      <td>12.948205</td>\n",
       "      <td>77.535098</td>\n",
       "    </tr>\n",
       "    <tr>\n",
       "      <th>5000</th>\n",
       "      <td>South Spicy Bites</td>\n",
       "      <td>Chinese, North Indian</td>\n",
       "      <td>400.0</td>\n",
       "      <td>Hebbal, Bangalore</td>\n",
       "      <td>3.3</td>\n",
       "      <td>9.0</td>\n",
       "      <td>3.9</td>\n",
       "      <td>4.0</td>\n",
       "      <td>https://www.zomato.com/bangalore/south-spicy-b...</td>\n",
       "      <td>168, RAMA Villa, 13th Main Road, Coffee Board ...</td>\n",
       "      <td>9.1998E+11</td>\n",
       "      <td>13.052611</td>\n",
       "      <td>77.604626</td>\n",
       "    </tr>\n",
       "    <tr>\n",
       "      <th>5001</th>\n",
       "      <td>Om Sri Vinayaka Chats</td>\n",
       "      <td>Street Food</td>\n",
       "      <td>150.0</td>\n",
       "      <td>Banashankari, Bangalore</td>\n",
       "      <td>3.3</td>\n",
       "      <td>9.0</td>\n",
       "      <td>3.9</td>\n",
       "      <td>1.0</td>\n",
       "      <td>https://www.zomato.com/bangalore/om-sri-vinaya...</td>\n",
       "      <td>62, 80 Feet Road, Sita Circle, Opposite Sita C...</td>\n",
       "      <td>9.18553E+11</td>\n",
       "      <td>12.938316</td>\n",
       "      <td>77.550330</td>\n",
       "    </tr>\n",
       "    <tr>\n",
       "      <th>5002</th>\n",
       "      <td>Coco House</td>\n",
       "      <td>Beverages, Desserts</td>\n",
       "      <td>250.0</td>\n",
       "      <td>Jayanagar, Bangalore</td>\n",
       "      <td>3.3</td>\n",
       "      <td>4.0</td>\n",
       "      <td>3.9</td>\n",
       "      <td>18.0</td>\n",
       "      <td>https://www.zomato.com/bangalore/coco-house-ja...</td>\n",
       "      <td>1545, 22nd Main, 39th Cross Road, 4th Block, J...</td>\n",
       "      <td>9.19633E+11</td>\n",
       "      <td>12.920575</td>\n",
       "      <td>77.591739</td>\n",
       "    </tr>\n",
       "  </tbody>\n",
       "</table>\n",
       "<p>5003 rows × 13 columns</p>\n",
       "</div>"
      ],
      "text/plain": [
       "                Restaurant_Name  \\\n",
       "0                   Burma Burma   \n",
       "1          Windmills Craftworks   \n",
       "2                CTR Shri Sagar   \n",
       "3          Brahmin's Coffee Bar   \n",
       "4              Milano Ice Cream   \n",
       "...                         ...   \n",
       "4998           Butter And Sauce   \n",
       "4999  New Ambur Hot Dum Biryani   \n",
       "5000          South Spicy Bites   \n",
       "5001      Om Sri Vinayaka Chats   \n",
       "5002                 Coco House   \n",
       "\n",
       "                                               Category  Pricing_for_2  \\\n",
       "0     Asian, Burmese, Bubble Tea, Salad, Tea, Desser...         1500.0   \n",
       "1     Continental, Fast Food, Kebab, Beverages, Ital...         2500.0   \n",
       "2                                          South Indian          150.0   \n",
       "3                                          South Indian          100.0   \n",
       "4                        Desserts, Ice Cream, Beverages          400.0   \n",
       "...                                                 ...            ...   \n",
       "4998        North Indian, Chinese, Street Food, Biryani          400.0   \n",
       "4999                              Biryani, North Indian          200.0   \n",
       "5000                              Chinese, North Indian          400.0   \n",
       "5001                                        Street Food          150.0   \n",
       "5002                                Beverages, Desserts          250.0   \n",
       "\n",
       "                              Locality  Dining_Rating  Dining_Review_Count  \\\n",
       "0               Indiranagar, Bangalore            4.9               2790.0   \n",
       "1      Windmills Craftworks, Bangalore            4.9               6543.0   \n",
       "2              Malleshwaram, Bangalore            4.9               4837.0   \n",
       "3              Basavanagudi, Bangalore            4.9               2975.0   \n",
       "4               Indiranagar, Bangalore            4.9               2575.0   \n",
       "...                                ...            ...                  ...   \n",
       "4998                    HSR, Bangalore            3.3                  4.0   \n",
       "4999            Mysore Road, Bangalore            3.3                  9.0   \n",
       "5000                 Hebbal, Bangalore            3.3                  9.0   \n",
       "5001           Banashankari, Bangalore            3.3                  9.0   \n",
       "5002              Jayanagar, Bangalore            3.3                  4.0   \n",
       "\n",
       "      Delivery_Rating  Delivery_Rating_Count  \\\n",
       "0                 4.5                  838.0   \n",
       "1                 4.2                  524.0   \n",
       "2                 4.3                22100.0   \n",
       "3                 4.4                  372.0   \n",
       "4                 4.4                 1180.0   \n",
       "...               ...                    ...   \n",
       "4998              3.9                   19.0   \n",
       "4999              0.0                    0.0   \n",
       "5000              3.9                    4.0   \n",
       "5001              3.9                    1.0   \n",
       "5002              3.9                   18.0   \n",
       "\n",
       "                                                Website  \\\n",
       "0     https://www.zomato.com/bangalore/burma-burma-i...   \n",
       "1     https://www.zomato.com/bangalore/windmills-cra...   \n",
       "2     https://www.zomato.com/bangalore/ctr-shri-saga...   \n",
       "3     https://www.zomato.com/bangalore/brahmins-coff...   \n",
       "4     https://www.zomato.com/bangalore/milano-ice-cr...   \n",
       "...                                                 ...   \n",
       "4998  https://www.zomato.com/bangalore/butter-and-sa...   \n",
       "4999  https://www.zomato.com/bangalore/new-ambur-hot...   \n",
       "5000  https://www.zomato.com/bangalore/south-spicy-b...   \n",
       "5001  https://www.zomato.com/bangalore/om-sri-vinaya...   \n",
       "5002  https://www.zomato.com/bangalore/coco-house-ja...   \n",
       "\n",
       "                                                Address     Phone_No  \\\n",
       "0     607, Ground Floor, 12th Main, Hal 2nd Stage, I...  9.18043E+11   \n",
       "1     78, Immaine Epip Industrial Area, Whitefield B...   9.1888E+11   \n",
       "2      7th Cross, Margosa Road, Malleshwaram, Bangalore  9.18023E+11   \n",
       "3          Ranga Rao Road, Near Basavanagudi, Bangalore  9.19845E+11   \n",
       "4     460, 2nd Cross, Krishna Temple Road, Indiranag...  9.18041E+11   \n",
       "...                                                 ...          ...   \n",
       "4998  757, Thara Vihar Food Court, 20th Main Road, G...  9.18073E+11   \n",
       "4999                  Near BHEL, Mysore Road, Bangalore  9.17975E+11   \n",
       "5000  168, RAMA Villa, 13th Main Road, Coffee Board ...   9.1998E+11   \n",
       "5001  62, 80 Feet Road, Sita Circle, Opposite Sita C...  9.18553E+11   \n",
       "5002  1545, 22nd Main, 39th Cross Road, 4th Block, J...  9.19633E+11   \n",
       "\n",
       "       Latitude  Longitude  \n",
       "0     12.970394  77.644713  \n",
       "1     12.982413  77.721979  \n",
       "2     12.998270  77.569455  \n",
       "3     12.954043  77.568865  \n",
       "4     12.979121  77.644039  \n",
       "...         ...        ...  \n",
       "4998  12.909674  77.644651  \n",
       "4999  12.948205  77.535098  \n",
       "5000  13.052611  77.604626  \n",
       "5001  12.938316  77.550330  \n",
       "5002  12.920575  77.591739  \n",
       "\n",
       "[5003 rows x 13 columns]"
      ]
     },
     "execution_count": 24,
     "metadata": {},
     "output_type": "execute_result"
    }
   ],
   "source": [
    "df.reindex(new_index)"
   ]
  },
  {
   "cell_type": "code",
   "execution_count": 26,
   "id": "5694069b",
   "metadata": {
    "scrolled": true
   },
   "outputs": [
    {
     "data": {
      "text/plain": [
       "Restaurant_Name          0\n",
       "Category                 0\n",
       "Pricing_for_2            0\n",
       "Locality                 0\n",
       "Dining_Rating            0\n",
       "Dining_Review_Count      0\n",
       "Delivery_Rating          0\n",
       "Delivery_Rating_Count    0\n",
       "Website                  0\n",
       "Address                  0\n",
       "Phone_No                 0\n",
       "Latitude                 0\n",
       "Longitude                0\n",
       "dtype: int64"
      ]
     },
     "execution_count": 26,
     "metadata": {},
     "output_type": "execute_result"
    }
   ],
   "source": [
    "df.isnull().sum()"
   ]
  },
  {
   "cell_type": "code",
   "execution_count": 27,
   "id": "bb46bf60",
   "metadata": {},
   "outputs": [
    {
     "data": {
      "text/plain": [
       "5003"
      ]
     },
     "execution_count": 27,
     "metadata": {},
     "output_type": "execute_result"
    }
   ],
   "source": [
    "len(df)"
   ]
  },
  {
   "cell_type": "code",
   "execution_count": 28,
   "id": "b69333eb",
   "metadata": {},
   "outputs": [],
   "source": [
    "rest_df = df.copy()"
   ]
  },
  {
   "cell_type": "code",
   "execution_count": 29,
   "id": "78bb2458",
   "metadata": {},
   "outputs": [],
   "source": [
    "rest_df.reset_index(inplace=True)"
   ]
  },
  {
   "cell_type": "code",
   "execution_count": 30,
   "id": "b3007e73",
   "metadata": {},
   "outputs": [],
   "source": [
    "#Collecting the count of restaurants in each locality\n",
    "loc = rest_df.Locality.value_counts()"
   ]
  },
  {
   "cell_type": "code",
   "execution_count": 31,
   "id": "04def19c",
   "metadata": {},
   "outputs": [
    {
     "data": {
      "text/plain": [
       "5003"
      ]
     },
     "execution_count": 31,
     "metadata": {},
     "output_type": "execute_result"
    }
   ],
   "source": [
    "len(rest_df)"
   ]
  },
  {
   "cell_type": "markdown",
   "id": "acf472a3",
   "metadata": {},
   "source": [
    "### Transforming Features"
   ]
  },
  {
   "cell_type": "code",
   "execution_count": 32,
   "id": "1570ac8d",
   "metadata": {},
   "outputs": [],
   "source": [
    "#Creating new feature - Locality Score\n",
    "rest_df['Locality_Score']=0"
   ]
  },
  {
   "cell_type": "code",
   "execution_count": 33,
   "id": "1fc8dcce",
   "metadata": {},
   "outputs": [],
   "source": [
    "#Updating the Locality Score\n",
    "for i in range(0,len(rest_df)):\n",
    "    rest_df['Locality_Score'][i] = int(loc.values[loc.index ==rest_df['Locality'][i]])\n",
    "    #print(rest_df['Locality_Score'][i])"
   ]
  },
  {
   "cell_type": "code",
   "execution_count": 34,
   "id": "ac006a44",
   "metadata": {},
   "outputs": [
    {
     "data": {
      "text/plain": [
       "0       198\n",
       "1         2\n",
       "2        78\n",
       "3        74\n",
       "4       198\n",
       "       ... \n",
       "4998     33\n",
       "4999     37\n",
       "5000    122\n",
       "5001     40\n",
       "5002    141\n",
       "Name: Locality_Score, Length: 5003, dtype: int64"
      ]
     },
     "execution_count": 34,
     "metadata": {},
     "output_type": "execute_result"
    }
   ],
   "source": [
    "rest_df.Locality_Score"
   ]
  },
  {
   "cell_type": "code",
   "execution_count": 35,
   "id": "6065027c",
   "metadata": {},
   "outputs": [],
   "source": [
    "\n",
    "rest_df['Popularity_Score'] = rest_df.Delivery_Rating_Count+rest_df.Dining_Review_Count"
   ]
  },
  {
   "cell_type": "code",
   "execution_count": 36,
   "id": "67f3e162",
   "metadata": {},
   "outputs": [],
   "source": [
    "rest_df['Rating_Score'] = (rest_df.Dining_Rating+rest_df.Delivery_Rating)/2"
   ]
  },
  {
   "cell_type": "markdown",
   "id": "0a52bfe0",
   "metadata": {},
   "source": [
    "# Data Visualizatuions"
   ]
  },
  {
   "cell_type": "code",
   "execution_count": 37,
   "id": "51773d04",
   "metadata": {},
   "outputs": [],
   "source": [
    "df1 = df.copy()"
   ]
  },
  {
   "cell_type": "code",
   "execution_count": 38,
   "id": "588f42b7",
   "metadata": {},
   "outputs": [],
   "source": [
    "df1['Category'] = df1['Category']\n",
    "df1['Category_num'] = df1['Category'].apply(lambda x: len(x.split(' ')))"
   ]
  },
  {
   "cell_type": "code",
   "execution_count": 39,
   "id": "f7c0d570",
   "metadata": {},
   "outputs": [],
   "source": [
    "df1['rating_cat'] = df1['Dining_Rating'].round(0).astype(int)"
   ]
  },
  {
   "cell_type": "code",
   "execution_count": 40,
   "id": "1b80180b",
   "metadata": {},
   "outputs": [],
   "source": [
    "df1['delivery_rating_cat']=df1['Delivery_Rating'].round(0).astype(int)"
   ]
  },
  {
   "cell_type": "code",
   "execution_count": 41,
   "id": "ca11bc3a",
   "metadata": {},
   "outputs": [
    {
     "data": {
      "text/html": [
       "<div>\n",
       "<style scoped>\n",
       "    .dataframe tbody tr th:only-of-type {\n",
       "        vertical-align: middle;\n",
       "    }\n",
       "\n",
       "    .dataframe tbody tr th {\n",
       "        vertical-align: top;\n",
       "    }\n",
       "\n",
       "    .dataframe thead th {\n",
       "        text-align: right;\n",
       "    }\n",
       "</style>\n",
       "<table border=\"1\" class=\"dataframe\">\n",
       "  <thead>\n",
       "    <tr style=\"text-align: right;\">\n",
       "      <th></th>\n",
       "      <th>Restaurant_Name</th>\n",
       "      <th>Category</th>\n",
       "      <th>Pricing_for_2</th>\n",
       "      <th>Locality</th>\n",
       "      <th>Dining_Rating</th>\n",
       "      <th>Dining_Review_Count</th>\n",
       "      <th>Delivery_Rating</th>\n",
       "      <th>Delivery_Rating_Count</th>\n",
       "      <th>Website</th>\n",
       "      <th>Address</th>\n",
       "      <th>Phone_No</th>\n",
       "      <th>Latitude</th>\n",
       "      <th>Longitude</th>\n",
       "      <th>Category_num</th>\n",
       "      <th>rating_cat</th>\n",
       "      <th>delivery_rating_cat</th>\n",
       "    </tr>\n",
       "  </thead>\n",
       "  <tbody>\n",
       "    <tr>\n",
       "      <th>0</th>\n",
       "      <td>Burma Burma</td>\n",
       "      <td>Asian, Burmese, Bubble Tea, Salad, Tea, Desser...</td>\n",
       "      <td>1500</td>\n",
       "      <td>Indiranagar, Bangalore</td>\n",
       "      <td>4.9</td>\n",
       "      <td>2790.0</td>\n",
       "      <td>4.5</td>\n",
       "      <td>838.0</td>\n",
       "      <td>https://www.zomato.com/bangalore/burma-burma-i...</td>\n",
       "      <td>607, Ground Floor, 12th Main, Hal 2nd Stage, I...</td>\n",
       "      <td>9.18043E+11</td>\n",
       "      <td>12.970394</td>\n",
       "      <td>77.644713</td>\n",
       "      <td>10</td>\n",
       "      <td>5</td>\n",
       "      <td>4</td>\n",
       "    </tr>\n",
       "    <tr>\n",
       "      <th>1</th>\n",
       "      <td>Windmills Craftworks</td>\n",
       "      <td>Continental, Fast Food, Kebab, Beverages, Ital...</td>\n",
       "      <td>2500</td>\n",
       "      <td>Windmills Craftworks, Bangalore</td>\n",
       "      <td>4.9</td>\n",
       "      <td>6543.0</td>\n",
       "      <td>4.2</td>\n",
       "      <td>524.0</td>\n",
       "      <td>https://www.zomato.com/bangalore/windmills-cra...</td>\n",
       "      <td>78, Immaine Epip Industrial Area, Whitefield B...</td>\n",
       "      <td>9.1888E+11</td>\n",
       "      <td>12.982413</td>\n",
       "      <td>77.721979</td>\n",
       "      <td>7</td>\n",
       "      <td>5</td>\n",
       "      <td>4</td>\n",
       "    </tr>\n",
       "    <tr>\n",
       "      <th>2</th>\n",
       "      <td>CTR Shri Sagar</td>\n",
       "      <td>South Indian</td>\n",
       "      <td>150</td>\n",
       "      <td>Malleshwaram, Bangalore</td>\n",
       "      <td>4.9</td>\n",
       "      <td>4837.0</td>\n",
       "      <td>4.3</td>\n",
       "      <td>22100.0</td>\n",
       "      <td>https://www.zomato.com/bangalore/ctr-shri-saga...</td>\n",
       "      <td>7th Cross, Margosa Road, Malleshwaram, Bangalore</td>\n",
       "      <td>9.18023E+11</td>\n",
       "      <td>12.998270</td>\n",
       "      <td>77.569455</td>\n",
       "      <td>2</td>\n",
       "      <td>5</td>\n",
       "      <td>4</td>\n",
       "    </tr>\n",
       "    <tr>\n",
       "      <th>3</th>\n",
       "      <td>Brahmin's Coffee Bar</td>\n",
       "      <td>South Indian</td>\n",
       "      <td>100</td>\n",
       "      <td>Basavanagudi, Bangalore</td>\n",
       "      <td>4.9</td>\n",
       "      <td>2975.0</td>\n",
       "      <td>4.4</td>\n",
       "      <td>372.0</td>\n",
       "      <td>https://www.zomato.com/bangalore/brahmins-coff...</td>\n",
       "      <td>Ranga Rao Road, Near Basavanagudi, Bangalore</td>\n",
       "      <td>9.19845E+11</td>\n",
       "      <td>12.954043</td>\n",
       "      <td>77.568865</td>\n",
       "      <td>2</td>\n",
       "      <td>5</td>\n",
       "      <td>4</td>\n",
       "    </tr>\n",
       "    <tr>\n",
       "      <th>4</th>\n",
       "      <td>Milano Ice Cream</td>\n",
       "      <td>Desserts, Ice Cream, Beverages</td>\n",
       "      <td>400</td>\n",
       "      <td>Indiranagar, Bangalore</td>\n",
       "      <td>4.9</td>\n",
       "      <td>2575.0</td>\n",
       "      <td>4.4</td>\n",
       "      <td>1180.0</td>\n",
       "      <td>https://www.zomato.com/bangalore/milano-ice-cr...</td>\n",
       "      <td>460, 2nd Cross, Krishna Temple Road, Indiranag...</td>\n",
       "      <td>9.18041E+11</td>\n",
       "      <td>12.979121</td>\n",
       "      <td>77.644039</td>\n",
       "      <td>4</td>\n",
       "      <td>5</td>\n",
       "      <td>4</td>\n",
       "    </tr>\n",
       "  </tbody>\n",
       "</table>\n",
       "</div>"
      ],
      "text/plain": [
       "        Restaurant_Name                                           Category  \\\n",
       "0           Burma Burma  Asian, Burmese, Bubble Tea, Salad, Tea, Desser...   \n",
       "1  Windmills Craftworks  Continental, Fast Food, Kebab, Beverages, Ital...   \n",
       "2        CTR Shri Sagar                                       South Indian   \n",
       "3  Brahmin's Coffee Bar                                       South Indian   \n",
       "4      Milano Ice Cream                     Desserts, Ice Cream, Beverages   \n",
       "\n",
       "   Pricing_for_2                          Locality  Dining_Rating  \\\n",
       "0           1500            Indiranagar, Bangalore            4.9   \n",
       "1           2500   Windmills Craftworks, Bangalore            4.9   \n",
       "2            150           Malleshwaram, Bangalore            4.9   \n",
       "3            100           Basavanagudi, Bangalore            4.9   \n",
       "4            400            Indiranagar, Bangalore            4.9   \n",
       "\n",
       "   Dining_Review_Count  Delivery_Rating  Delivery_Rating_Count  \\\n",
       "0               2790.0              4.5                  838.0   \n",
       "1               6543.0              4.2                  524.0   \n",
       "2               4837.0              4.3                22100.0   \n",
       "3               2975.0              4.4                  372.0   \n",
       "4               2575.0              4.4                 1180.0   \n",
       "\n",
       "                                             Website  \\\n",
       "0  https://www.zomato.com/bangalore/burma-burma-i...   \n",
       "1  https://www.zomato.com/bangalore/windmills-cra...   \n",
       "2  https://www.zomato.com/bangalore/ctr-shri-saga...   \n",
       "3  https://www.zomato.com/bangalore/brahmins-coff...   \n",
       "4  https://www.zomato.com/bangalore/milano-ice-cr...   \n",
       "\n",
       "                                             Address     Phone_No   Latitude  \\\n",
       "0  607, Ground Floor, 12th Main, Hal 2nd Stage, I...  9.18043E+11  12.970394   \n",
       "1  78, Immaine Epip Industrial Area, Whitefield B...   9.1888E+11  12.982413   \n",
       "2   7th Cross, Margosa Road, Malleshwaram, Bangalore  9.18023E+11  12.998270   \n",
       "3       Ranga Rao Road, Near Basavanagudi, Bangalore  9.19845E+11  12.954043   \n",
       "4  460, 2nd Cross, Krishna Temple Road, Indiranag...  9.18041E+11  12.979121   \n",
       "\n",
       "   Longitude  Category_num  rating_cat  delivery_rating_cat  \n",
       "0  77.644713            10           5                    4  \n",
       "1  77.721979             7           5                    4  \n",
       "2  77.569455             2           5                    4  \n",
       "3  77.568865             2           5                    4  \n",
       "4  77.644039             4           5                    4  "
      ]
     },
     "execution_count": 41,
     "metadata": {},
     "output_type": "execute_result"
    }
   ],
   "source": [
    "df1.head()"
   ]
  },
  {
   "cell_type": "code",
   "execution_count": 42,
   "id": "9cb1782a",
   "metadata": {},
   "outputs": [],
   "source": [
    "def prettyprint_spines(ax, right_border=True): \n",
    "    ax.spines['bottom'].set_color('#CCCCCC')\n",
    "    ax.spines['left'].set_color('#CCCCCC')\n",
    "    ax.spines['top'].set_visible(False)\n",
    "    if right_border:\n",
    "        ax.spines['right'].set_color('#CCCCCC')\n",
    "    else:\n",
    "        ax.spines['right'].set_color('#FFFFFF')\n",
    "    ax.patch.set_facecolor('#FFFFFF')"
   ]
  },
  {
   "cell_type": "code",
   "execution_count": 43,
   "id": "2385a8b3",
   "metadata": {},
   "outputs": [
    {
     "data": {
      "image/png": "[encoded data removed]",
      "text/plain": [
       "<Figure size 936x360 with 1 Axes>"
      ]
     },
     "metadata": {
      "needs_background": "light"
     },
     "output_type": "display_data"
    }
   ],
   "source": [
    "# Ratings\n",
    "plt.figure(figsize=(13,5))\n",
    "sns.set_style('darkgrid')\n",
    "sns.distplot(df['Dining_Rating'], kde=False, bins = 50, color='skyblue', hist_kws={'alpha':0.7})\n",
    "sns.despine()\n",
    "plt.title(\"Average Ratings of  Restaurants for Dining in Bangalore\", fontsize = 15)\n",
    "plt.xlabel(\"Average Rating\", fontsize = 15)\n",
    "plt.ylabel(\"Number of Restaurants\", fontsize = 15)\n",
    "plt.show()"
   ]
  },
  {
   "cell_type": "code",
   "execution_count": 44,
   "id": "2c0685f6",
   "metadata": {},
   "outputs": [
    {
     "data": {
      "image/png": "[encoded data removed]",
      "text/plain": [
       "<Figure size 936x360 with 1 Axes>"
      ]
     },
     "metadata": {},
     "output_type": "display_data"
    }
   ],
   "source": [
    "# Ratings\n",
    "plt.figure(figsize=(13,5))\n",
    "sns.set_style('darkgrid')\n",
    "sns.distplot(df['Delivery_Rating'], kde=False, bins = 50, color='skyblue', hist_kws={'alpha':0.7})\n",
    "plt.title(\"Average Ratings of  Restaurants for Takeaways (or) online food orderings in Bangalore\", fontsize = 15)\n",
    "plt.xlabel(\"Average Rating\", fontsize = 15)\n",
    "plt.ylabel(\"Number of Restaurants\", fontsize = 15)\n",
    "plt.show()"
   ]
  },
  {
   "cell_type": "code",
   "execution_count": 45,
   "id": "4c35e4f9",
   "metadata": {},
   "outputs": [
    {
     "data": {
      "image/png": "[encoded data removed]",
      "text/plain": [
       "<Figure size 936x360 with 1 Axes>"
      ]
     },
     "metadata": {},
     "output_type": "display_data"
    }
   ],
   "source": [
    "plt.figure(figsize=(13,5))\n",
    "sns.set_style('darkgrid')\n",
    "sns.distplot(df['Dining_Review_Count'], kde=False, bins = 70, color='skyblue', hist_kws={'alpha':0.7})\n",
    "plt.title(\"Number of Reviews received by  Restaurants for dining in Bangalore\", fontsize = 15)\n",
    "plt.xlabel(\"Number of Reviews\", fontsize = 15)\n",
    "plt.ylabel(\"Number of Restaurants\", fontsize = 15)\n",
    "plt.xlim(0,5000)\n",
    "plt.show()"
   ]
  },
  {
   "cell_type": "code",
   "execution_count": 46,
   "id": "6e1426bb",
   "metadata": {},
   "outputs": [
    {
     "data": {
      "image/png": "[encoded data removed]",
      "text/plain": [
       "<Figure size 936x360 with 1 Axes>"
      ]
     },
     "metadata": {},
     "output_type": "display_data"
    }
   ],
   "source": [
    "plt.figure(figsize=(13,5))\n",
    "sns.set_style('darkgrid')\n",
    "sns.distplot(df['Delivery_Rating_Count'], kde=False, bins = 50, color='skyblue', hist_kws={'alpha':0.7})\n",
    "sns.despine()\n",
    "plt.title(\"Number of Reviews received by  Restaurants for Take aways (or)online food ordering in Bangalore\", fontsize = 15)\n",
    "plt.xlim(0,15000)\n",
    "plt.xlabel(\"Number of Reviews\", fontsize = 15)\n",
    "plt.ylabel(\"Number of Restaurants\", fontsize = 15)\n",
    "plt.show()"
   ]
  },
  {
   "cell_type": "markdown",
   "id": "6177ba59",
   "metadata": {},
   "source": [
    "# Clustering"
   ]
  },
  {
   "cell_type": "code",
   "execution_count": 57,
   "id": "ef87cfb1",
   "metadata": {},
   "outputs": [],
   "source": [
    "#Conducting the Hopkins statistic\n",
    "from sklearn.neighbors import NearestNeighbors\n",
    "from random import sample\n",
    "from numpy.random import uniform\n",
    "from math import isnan\n",
    " \n",
    "def hopkins(X):\n",
    "    d = X.shape[1]\n",
    "    n = len(X) # rows\n",
    "    m = int(0.1 * n) \n",
    "    nbrs = NearestNeighbors(n_neighbors=1).fit(X.values) \n",
    "    rand_X = sample(range(0, n, 1), m) \n",
    "    ujd = []\n",
    "    wjd = []\n",
    "    for j in range(0, m):\n",
    "        u_dist, _ = nbrs.kneighbors(uniform(np.amin(X,axis=0),np.amax(X,axis=0),d).reshape(1, -1), 2, return_distance=True)\n",
    "        ujd.append(u_dist[0][1])\n",
    "        w_dist, _ = nbrs.kneighbors(X.iloc[rand_X[j]].values.reshape(1, -1), 2, return_distance=True)\n",
    "        wjd.append(w_dist[0][1]) \n",
    "    HO = sum(ujd) / (sum(ujd) + sum(wjd))\n",
    "    if isnan(HO):\n",
    "        print(ujd, wjd)\n",
    "        HO = 0\n",
    " \n",
    "    return HO"
   ]
  },
  {
   "cell_type": "code",
   "execution_count": 58,
   "id": "0a4de454",
   "metadata": {},
   "outputs": [
    {
     "data": {
      "text/plain": [
       "Index(['index', 'Restaurant_Name', 'Category', 'Pricing_for_2', 'Locality',\n",
       "       'Dining_Rating', 'Dining_Review_Count', 'Delivery_Rating',\n",
       "       'Delivery_Rating_Count', 'Website', 'Address', 'Phone_No', 'Latitude',\n",
       "       'Longitude', 'Locality_Score', 'Popularity_Score', 'Rating_Score'],\n",
       "      dtype='object')"
      ]
     },
     "execution_count": 58,
     "metadata": {},
     "output_type": "execute_result"
    }
   ],
   "source": [
    "rest_df.columns"
   ]
  },
  {
   "cell_type": "code",
   "execution_count": 59,
   "id": "5b677ecf",
   "metadata": {},
   "outputs": [],
   "source": [
    "df1=rest_df[[\"Popularity_Score\",\"Rating_Score\",\"Pricing_for_2\",\"Locality_Score\"]]"
   ]
  },
  {
   "cell_type": "code",
   "execution_count": 60,
   "id": "b25bf876",
   "metadata": {},
   "outputs": [
    {
     "name": "stdout",
     "output_type": "stream",
     "text": [
      "0.9905057534279407\n",
      "0.9902522852651121\n",
      "0.9901508741559133\n",
      "0.9881813729561015\n",
      "0.9833188179815112\n",
      "0.9841676527500106\n",
      "0.990768756116704\n",
      "0.9892026011428733\n",
      "0.9906585900279652\n",
      "0.9900658842387016\n"
     ]
    }
   ],
   "source": [
    "# verify hopkins value 10 times/multiple times to make sure our data is well suited for clustering\n",
    "for i in range(10):\n",
    "    print(hopkins(df1))"
   ]
  },
  {
   "cell_type": "markdown",
   "id": "5811a81e",
   "metadata": {},
   "source": [
    "As Hopkins value ranges between 0.9 we can say data is suitable for clustering"
   ]
  },
  {
   "cell_type": "markdown",
   "id": "171b5a57",
   "metadata": {},
   "source": [
    "# Model Fitting and predicting"
   ]
  },
  {
   "cell_type": "code",
   "execution_count": 304,
   "id": "b16c9840",
   "metadata": {},
   "outputs": [
    {
     "data": {
      "text/plain": [
       "Index(['index', 'Restaurant_Name', 'Category', 'Pricing_for_2', 'Locality',\n",
       "       'Dining_Rating', 'Dining_Review_Count', 'Delivery_Rating',\n",
       "       'Delivery_Rating_Count', 'Website', 'Address', 'Phone_No', 'Latitude',\n",
       "       'Longitude', 'Category_num', 'Locality_Score', 'Popularity_Score',\n",
       "       'Rating_Score', 'label'],\n",
       "      dtype='object')"
      ]
     },
     "execution_count": 304,
     "metadata": {},
     "output_type": "execute_result"
    }
   ],
   "source": [
    "rest_df.columns"
   ]
  },
  {
   "cell_type": "markdown",
   "id": "51751a64",
   "metadata": {},
   "source": [
    "### Level 1 Clustering"
   ]
  },
  {
   "cell_type": "code",
   "execution_count": 61,
   "id": "ceff57c1",
   "metadata": {},
   "outputs": [
    {
     "data": {
      "image/png": "[encoded data removed]",
      "text/plain": [
       "<Figure size 432x288 with 1 Axes>"
      ]
     },
     "metadata": {},
     "output_type": "display_data"
    }
   ],
   "source": [
    "from sklearn.cluster import KMeans\n",
    "x_df = rest_df[[\"Popularity_Score\",\"Rating_Score\"]] \n",
    "wcss = []\n",
    "for k in range(1,15):\n",
    "    kmean = KMeans(n_clusters=k, random_state=0)\n",
    "    kmean.fit(x_df)\n",
    "    wcss.append(kmean.inertia_)\n",
    "    \n",
    "plt.plot(range(1,15), wcss)\n",
    "plt.xlabel(\"Number of k (cluster) values\")\n",
    "plt.ylabel(\"Inertia - WCSS\")\n",
    "plt.title(\"Finding Optimum Number of K\")\n",
    "plt.show()"
   ]
  },
  {
   "cell_type": "code",
   "execution_count": 62,
   "id": "239391d3",
   "metadata": {},
   "outputs": [
    {
     "data": {
      "text/html": [
       "<div>\n",
       "<style scoped>\n",
       "    .dataframe tbody tr th:only-of-type {\n",
       "        vertical-align: middle;\n",
       "    }\n",
       "\n",
       "    .dataframe tbody tr th {\n",
       "        vertical-align: top;\n",
       "    }\n",
       "\n",
       "    .dataframe thead th {\n",
       "        text-align: right;\n",
       "    }\n",
       "</style>\n",
       "<table border=\"1\" class=\"dataframe\">\n",
       "  <thead>\n",
       "    <tr style=\"text-align: right;\">\n",
       "      <th></th>\n",
       "      <th>index</th>\n",
       "      <th>Restaurant_Name</th>\n",
       "      <th>Category</th>\n",
       "      <th>Pricing_for_2</th>\n",
       "      <th>Locality</th>\n",
       "      <th>Dining_Rating</th>\n",
       "      <th>Dining_Review_Count</th>\n",
       "      <th>Delivery_Rating</th>\n",
       "      <th>Delivery_Rating_Count</th>\n",
       "      <th>Website</th>\n",
       "      <th>Address</th>\n",
       "      <th>Phone_No</th>\n",
       "      <th>Latitude</th>\n",
       "      <th>Longitude</th>\n",
       "      <th>Locality_Score</th>\n",
       "      <th>Popularity_Score</th>\n",
       "      <th>Rating_Score</th>\n",
       "      <th>label</th>\n",
       "    </tr>\n",
       "  </thead>\n",
       "  <tbody>\n",
       "    <tr>\n",
       "      <th>0</th>\n",
       "      <td>0</td>\n",
       "      <td>Burma Burma</td>\n",
       "      <td>Asian, Burmese, Bubble Tea, Salad, Tea, Desser...</td>\n",
       "      <td>1500</td>\n",
       "      <td>Indiranagar, Bangalore</td>\n",
       "      <td>4.9</td>\n",
       "      <td>2790.0</td>\n",
       "      <td>4.5</td>\n",
       "      <td>838.0</td>\n",
       "      <td>https://www.zomato.com/bangalore/burma-burma-i...</td>\n",
       "      <td>607, Ground Floor, 12th Main, Hal 2nd Stage, I...</td>\n",
       "      <td>9.18043E+11</td>\n",
       "      <td>12.970394</td>\n",
       "      <td>77.644713</td>\n",
       "      <td>198</td>\n",
       "      <td>3628.0</td>\n",
       "      <td>4.70</td>\n",
       "      <td>4</td>\n",
       "    </tr>\n",
       "    <tr>\n",
       "      <th>1</th>\n",
       "      <td>1</td>\n",
       "      <td>Windmills Craftworks</td>\n",
       "      <td>Continental, Fast Food, Kebab, Beverages, Ital...</td>\n",
       "      <td>2500</td>\n",
       "      <td>Windmills Craftworks, Bangalore</td>\n",
       "      <td>4.9</td>\n",
       "      <td>6543.0</td>\n",
       "      <td>4.2</td>\n",
       "      <td>524.0</td>\n",
       "      <td>https://www.zomato.com/bangalore/windmills-cra...</td>\n",
       "      <td>78, Immaine Epip Industrial Area, Whitefield B...</td>\n",
       "      <td>9.1888E+11</td>\n",
       "      <td>12.982413</td>\n",
       "      <td>77.721979</td>\n",
       "      <td>2</td>\n",
       "      <td>7067.0</td>\n",
       "      <td>4.55</td>\n",
       "      <td>2</td>\n",
       "    </tr>\n",
       "    <tr>\n",
       "      <th>2</th>\n",
       "      <td>2</td>\n",
       "      <td>CTR Shri Sagar</td>\n",
       "      <td>South Indian</td>\n",
       "      <td>150</td>\n",
       "      <td>Malleshwaram, Bangalore</td>\n",
       "      <td>4.9</td>\n",
       "      <td>4837.0</td>\n",
       "      <td>4.3</td>\n",
       "      <td>22100.0</td>\n",
       "      <td>https://www.zomato.com/bangalore/ctr-shri-saga...</td>\n",
       "      <td>7th Cross, Margosa Road, Malleshwaram, Bangalore</td>\n",
       "      <td>9.18023E+11</td>\n",
       "      <td>12.998270</td>\n",
       "      <td>77.569455</td>\n",
       "      <td>78</td>\n",
       "      <td>26937.0</td>\n",
       "      <td>4.60</td>\n",
       "      <td>5</td>\n",
       "    </tr>\n",
       "    <tr>\n",
       "      <th>3</th>\n",
       "      <td>3</td>\n",
       "      <td>Brahmin's Coffee Bar</td>\n",
       "      <td>South Indian</td>\n",
       "      <td>100</td>\n",
       "      <td>Basavanagudi, Bangalore</td>\n",
       "      <td>4.9</td>\n",
       "      <td>2975.0</td>\n",
       "      <td>4.4</td>\n",
       "      <td>372.0</td>\n",
       "      <td>https://www.zomato.com/bangalore/brahmins-coff...</td>\n",
       "      <td>Ranga Rao Road, Near Basavanagudi, Bangalore</td>\n",
       "      <td>9.19845E+11</td>\n",
       "      <td>12.954043</td>\n",
       "      <td>77.568865</td>\n",
       "      <td>74</td>\n",
       "      <td>3347.0</td>\n",
       "      <td>4.65</td>\n",
       "      <td>4</td>\n",
       "    </tr>\n",
       "    <tr>\n",
       "      <th>4</th>\n",
       "      <td>4</td>\n",
       "      <td>Milano Ice Cream</td>\n",
       "      <td>Desserts, Ice Cream, Beverages</td>\n",
       "      <td>400</td>\n",
       "      <td>Indiranagar, Bangalore</td>\n",
       "      <td>4.9</td>\n",
       "      <td>2575.0</td>\n",
       "      <td>4.4</td>\n",
       "      <td>1180.0</td>\n",
       "      <td>https://www.zomato.com/bangalore/milano-ice-cr...</td>\n",
       "      <td>460, 2nd Cross, Krishna Temple Road, Indiranag...</td>\n",
       "      <td>9.18041E+11</td>\n",
       "      <td>12.979121</td>\n",
       "      <td>77.644039</td>\n",
       "      <td>198</td>\n",
       "      <td>3755.0</td>\n",
       "      <td>4.65</td>\n",
       "      <td>4</td>\n",
       "    </tr>\n",
       "  </tbody>\n",
       "</table>\n",
       "</div>"
      ],
      "text/plain": [
       "   index       Restaurant_Name  \\\n",
       "0      0           Burma Burma   \n",
       "1      1  Windmills Craftworks   \n",
       "2      2        CTR Shri Sagar   \n",
       "3      3  Brahmin's Coffee Bar   \n",
       "4      4      Milano Ice Cream   \n",
       "\n",
       "                                            Category  Pricing_for_2  \\\n",
       "0  Asian, Burmese, Bubble Tea, Salad, Tea, Desser...           1500   \n",
       "1  Continental, Fast Food, Kebab, Beverages, Ital...           2500   \n",
       "2                                       South Indian            150   \n",
       "3                                       South Indian            100   \n",
       "4                     Desserts, Ice Cream, Beverages            400   \n",
       "\n",
       "                           Locality  Dining_Rating  Dining_Review_Count  \\\n",
       "0            Indiranagar, Bangalore            4.9               2790.0   \n",
       "1   Windmills Craftworks, Bangalore            4.9               6543.0   \n",
       "2           Malleshwaram, Bangalore            4.9               4837.0   \n",
       "3           Basavanagudi, Bangalore            4.9               2975.0   \n",
       "4            Indiranagar, Bangalore            4.9               2575.0   \n",
       "\n",
       "   Delivery_Rating  Delivery_Rating_Count  \\\n",
       "0              4.5                  838.0   \n",
       "1              4.2                  524.0   \n",
       "2              4.3                22100.0   \n",
       "3              4.4                  372.0   \n",
       "4              4.4                 1180.0   \n",
       "\n",
       "                                             Website  \\\n",
       "0  https://www.zomato.com/bangalore/burma-burma-i...   \n",
       "1  https://www.zomato.com/bangalore/windmills-cra...   \n",
       "2  https://www.zomato.com/bangalore/ctr-shri-saga...   \n",
       "3  https://www.zomato.com/bangalore/brahmins-coff...   \n",
       "4  https://www.zomato.com/bangalore/milano-ice-cr...   \n",
       "\n",
       "                                             Address     Phone_No   Latitude  \\\n",
       "0  607, Ground Floor, 12th Main, Hal 2nd Stage, I...  9.18043E+11  12.970394   \n",
       "1  78, Immaine Epip Industrial Area, Whitefield B...   9.1888E+11  12.982413   \n",
       "2   7th Cross, Margosa Road, Malleshwaram, Bangalore  9.18023E+11  12.998270   \n",
       "3       Ranga Rao Road, Near Basavanagudi, Bangalore  9.19845E+11  12.954043   \n",
       "4  460, 2nd Cross, Krishna Temple Road, Indiranag...  9.18041E+11  12.979121   \n",
       "\n",
       "   Longitude  Locality_Score  Popularity_Score  Rating_Score  label  \n",
       "0  77.644713             198            3628.0          4.70      4  \n",
       "1  77.721979               2            7067.0          4.55      2  \n",
       "2  77.569455              78           26937.0          4.60      5  \n",
       "3  77.568865              74            3347.0          4.65      4  \n",
       "4  77.644039             198            3755.0          4.65      4  "
      ]
     },
     "execution_count": 62,
     "metadata": {},
     "output_type": "execute_result"
    }
   ],
   "source": [
    "kmean_x_data1 = KMeans(n_clusters=6, random_state=0)\n",
    "clusters = kmean_x_data1.fit_predict(x_df)\n",
    "rest_df[\"label\"] = clusters\n",
    "rest_df.head()"
   ]
  },
  {
   "cell_type": "code",
   "execution_count": 302,
   "id": "003df969",
   "metadata": {
    "scrolled": true
   },
   "outputs": [
    {
     "data": {
      "text/plain": [
       "0    3830\n",
       "4     724\n",
       "2     289\n",
       "1     116\n",
       "5      36\n",
       "3       8\n",
       "Name: label, dtype: int64"
      ]
     },
     "execution_count": 302,
     "metadata": {},
     "output_type": "execute_result"
    }
   ],
   "source": [
    "rest_df.label.value_counts()"
   ]
  },
  {
   "cell_type": "code",
   "execution_count": 311,
   "id": "c224d10a",
   "metadata": {},
   "outputs": [
    {
     "data": {
      "text/plain": [
       "1129"
      ]
     },
     "execution_count": 311,
     "metadata": {},
     "output_type": "execute_result"
    }
   ],
   "source": [
    "724+289+116"
   ]
  },
  {
   "cell_type": "code",
   "execution_count": 300,
   "id": "58718f03",
   "metadata": {},
   "outputs": [
    {
     "name": "stderr",
     "output_type": "stream",
     "text": [
      "No handles with labels found to put in legend.\n"
     ]
    },
    {
     "data": {
      "image/png": "[encoded data removed]",
      "text/plain": [
       "<Figure size 1440x720 with 1 Axes>"
      ]
     },
     "metadata": {},
     "output_type": "display_data"
    }
   ],
   "source": [
    "fig = plt.figure(figsize=(20,10))\n",
    "ax = fig.add_subplot(111)\n",
    "ax.scatter( rest_df[\"Popularity_Score\"][rest_df.label == 0], rest_df[\"Rating_Score\"][rest_df.label == 0], c='blue', s=60)\n",
    "ax.scatter(rest_df[\"Popularity_Score\"][rest_df.label == 1], rest_df[\"Rating_Score\"][rest_df.label == 1], c='red', s=60)\n",
    "ax.scatter( rest_df[\"Popularity_Score\"][rest_df.label == 2], rest_df[\"Rating_Score\"][rest_df.label == 2], c='green', s=60)\n",
    "ax.scatter( rest_df[\"Popularity_Score\"][rest_df.label == 3], rest_df[\"Rating_Score\"][rest_df.label == 3], c='orange', s=60)\n",
    "ax.scatter( rest_df[\"Popularity_Score\"][rest_df.label == 4], rest_df[\"Rating_Score\"][rest_df.label == 4], c='purple', s=60)\n",
    "ax.scatter( rest_df[\"Popularity_Score\"][rest_df.label == 5], rest_df[\"Rating_Score\"][rest_df.label == 5], c='pink', s=60)\n",
    "#ax.scatter(kmean_x_data1.cluster_centers_[:,0], kmean_x_data1.cluster_centers_[:,1],kmean_x_data1.cluster_centers_[:,2],kmean_x_data1.cluster_centers_[:,3],color=\"black\", label=\"Centroids\",marker='*',s =90)\n",
    "#ax.view_init(30, 185)\n",
    "plt.legend()\n",
    "plt.xlabel(\"Popluarlity\")\n",
    "plt.ylabel(\"rating \")\n",
    "#ax.set_zlabel('delivery_rating ')\n",
    "plt.show()"
   ]
  },
  {
   "cell_type": "code",
   "execution_count": 321,
   "id": "1b64ed1d",
   "metadata": {},
   "outputs": [
    {
     "data": {
      "text/plain": [
       "724"
      ]
     },
     "execution_count": 321,
     "metadata": {},
     "output_type": "execute_result"
    }
   ],
   "source": [
    "(rest_df.label == (4 or 2 or 1)).sum()"
   ]
  },
  {
   "cell_type": "code",
   "execution_count": 332,
   "id": "2f0bc056",
   "metadata": {
    "scrolled": true
   },
   "outputs": [],
   "source": [
    "filter_df4 = rest_df[rest_df.label ==4]\n",
    "filter_df2 = rest_df[rest_df.label ==2]\n",
    "filter_df1 = rest_df[rest_df.label ==1]"
   ]
  },
  {
   "cell_type": "code",
   "execution_count": 339,
   "id": "52e33c26",
   "metadata": {},
   "outputs": [],
   "source": [
    "filter_df = pd.concat([filter_df4,filter_df2,filter_df1])"
   ]
  },
  {
   "cell_type": "code",
   "execution_count": 342,
   "id": "387849e9",
   "metadata": {
    "scrolled": true
   },
   "outputs": [
    {
     "name": "stdout",
     "output_type": "stream",
     "text": [
      "<class 'pandas.core.frame.DataFrame'>\n",
      "Int64Index: 1129 entries, 0 to 4323\n",
      "Data columns (total 19 columns):\n",
      " #   Column                 Non-Null Count  Dtype  \n",
      "---  ------                 --------------  -----  \n",
      " 0   index                  1129 non-null   int64  \n",
      " 1   Restaurant_Name        1129 non-null   object \n",
      " 2   Category               1129 non-null   object \n",
      " 3   Pricing_for_2          1129 non-null   int64  \n",
      " 4   Locality               1129 non-null   object \n",
      " 5   Dining_Rating          1129 non-null   float64\n",
      " 6   Dining_Review_Count    1129 non-null   float64\n",
      " 7   Delivery_Rating        1129 non-null   float64\n",
      " 8   Delivery_Rating_Count  1129 non-null   float64\n",
      " 9   Website                1129 non-null   object \n",
      " 10  Address                1129 non-null   object \n",
      " 11  Phone_No               1129 non-null   object \n",
      " 12  Latitude               1129 non-null   float64\n",
      " 13  Longitude              1129 non-null   float64\n",
      " 14  Category_num           1129 non-null   int64  \n",
      " 15  Locality_Score         1129 non-null   int64  \n",
      " 16  Popularity_Score       1129 non-null   float64\n",
      " 17  Rating_Score           1129 non-null   float64\n",
      " 18  label                  1129 non-null   int32  \n",
      "dtypes: float64(8), int32(1), int64(4), object(6)\n",
      "memory usage: 172.0+ KB\n"
     ]
    }
   ],
   "source": [
    "filter_df.info()"
   ]
  },
  {
   "cell_type": "code",
   "execution_count": 343,
   "id": "e32f4b7a",
   "metadata": {},
   "outputs": [
    {
     "data": {
      "text/plain": [
       "Index(['index', 'Restaurant_Name', 'Category', 'Pricing_for_2', 'Locality',\n",
       "       'Dining_Rating', 'Dining_Review_Count', 'Delivery_Rating',\n",
       "       'Delivery_Rating_Count', 'Website', 'Address', 'Phone_No', 'Latitude',\n",
       "       'Longitude', 'Category_num', 'Locality_Score', 'Popularity_Score',\n",
       "       'Rating_Score', 'label'],\n",
       "      dtype='object')"
      ]
     },
     "execution_count": 343,
     "metadata": {},
     "output_type": "execute_result"
    }
   ],
   "source": [
    "filter_df.columns"
   ]
  },
  {
   "cell_type": "code",
   "execution_count": 346,
   "id": "aa682bf8",
   "metadata": {},
   "outputs": [
    {
     "data": {
      "image/png": "[encoded data removed]",
      "text/plain": [
       "<Figure size 432x288 with 1 Axes>"
      ]
     },
     "metadata": {},
     "output_type": "display_data"
    }
   ],
   "source": [
    "from sklearn.cluster import KMeans\n",
    "x_df = filter_df[[\"Pricing_for_2\",\"Locality_Score\"]] \n",
    "wcss = []\n",
    "for k in range(1,15):\n",
    "    kmean = KMeans(n_clusters=k, random_state=0)\n",
    "    kmean.fit(x_df)\n",
    "    wcss.append(kmean.inertia_)\n",
    "    \n",
    "plt.plot(range(1,15), wcss)\n",
    "plt.xlabel(\"Number of k (cluster) values\")\n",
    "plt.ylabel(\"Inertia - WCSS\")\n",
    "plt.title(\"Finding Optimum Number of K\")\n",
    "plt.show()"
   ]
  },
  {
   "cell_type": "code",
   "execution_count": 348,
   "id": "4da939d3",
   "metadata": {},
   "outputs": [
    {
     "data": {
      "text/html": [
       "<div>\n",
       "<style scoped>\n",
       "    .dataframe tbody tr th:only-of-type {\n",
       "        vertical-align: middle;\n",
       "    }\n",
       "\n",
       "    .dataframe tbody tr th {\n",
       "        vertical-align: top;\n",
       "    }\n",
       "\n",
       "    .dataframe thead th {\n",
       "        text-align: right;\n",
       "    }\n",
       "</style>\n",
       "<table border=\"1\" class=\"dataframe\">\n",
       "  <thead>\n",
       "    <tr style=\"text-align: right;\">\n",
       "      <th></th>\n",
       "      <th>index</th>\n",
       "      <th>Restaurant_Name</th>\n",
       "      <th>Category</th>\n",
       "      <th>Pricing_for_2</th>\n",
       "      <th>Locality</th>\n",
       "      <th>Dining_Rating</th>\n",
       "      <th>Dining_Review_Count</th>\n",
       "      <th>Delivery_Rating</th>\n",
       "      <th>Delivery_Rating_Count</th>\n",
       "      <th>Website</th>\n",
       "      <th>Address</th>\n",
       "      <th>Phone_No</th>\n",
       "      <th>Latitude</th>\n",
       "      <th>Longitude</th>\n",
       "      <th>Category_num</th>\n",
       "      <th>Locality_Score</th>\n",
       "      <th>Popularity_Score</th>\n",
       "      <th>Rating_Score</th>\n",
       "      <th>label</th>\n",
       "      <th>label2</th>\n",
       "    </tr>\n",
       "  </thead>\n",
       "  <tbody>\n",
       "    <tr>\n",
       "      <th>0</th>\n",
       "      <td>0</td>\n",
       "      <td>Burma Burma</td>\n",
       "      <td>Asian, Burmese, Bubble Tea, Salad, Tea, Desser...</td>\n",
       "      <td>1500</td>\n",
       "      <td>Indiranagar, Bangalore</td>\n",
       "      <td>4.9</td>\n",
       "      <td>2790.0</td>\n",
       "      <td>4.5</td>\n",
       "      <td>838.0</td>\n",
       "      <td>https://www.zomato.com/bangalore/burma-burma-i...</td>\n",
       "      <td>607, Ground Floor, 12th Main, Hal 2nd Stage, I...</td>\n",
       "      <td>9.18043E+11</td>\n",
       "      <td>12.970394</td>\n",
       "      <td>77.644713</td>\n",
       "      <td>10</td>\n",
       "      <td>198</td>\n",
       "      <td>3628.0</td>\n",
       "      <td>4.70</td>\n",
       "      <td>4</td>\n",
       "      <td>3</td>\n",
       "    </tr>\n",
       "    <tr>\n",
       "      <th>3</th>\n",
       "      <td>3</td>\n",
       "      <td>Brahmin's Coffee Bar</td>\n",
       "      <td>South Indian</td>\n",
       "      <td>100</td>\n",
       "      <td>Basavanagudi, Bangalore</td>\n",
       "      <td>4.9</td>\n",
       "      <td>2975.0</td>\n",
       "      <td>4.4</td>\n",
       "      <td>372.0</td>\n",
       "      <td>https://www.zomato.com/bangalore/brahmins-coff...</td>\n",
       "      <td>Ranga Rao Road, Near Basavanagudi, Bangalore</td>\n",
       "      <td>9.19845E+11</td>\n",
       "      <td>12.954043</td>\n",
       "      <td>77.568865</td>\n",
       "      <td>2</td>\n",
       "      <td>74</td>\n",
       "      <td>3347.0</td>\n",
       "      <td>4.65</td>\n",
       "      <td>4</td>\n",
       "      <td>0</td>\n",
       "    </tr>\n",
       "    <tr>\n",
       "      <th>4</th>\n",
       "      <td>4</td>\n",
       "      <td>Milano Ice Cream</td>\n",
       "      <td>Desserts, Ice Cream, Beverages</td>\n",
       "      <td>400</td>\n",
       "      <td>Indiranagar, Bangalore</td>\n",
       "      <td>4.9</td>\n",
       "      <td>2575.0</td>\n",
       "      <td>4.4</td>\n",
       "      <td>1180.0</td>\n",
       "      <td>https://www.zomato.com/bangalore/milano-ice-cr...</td>\n",
       "      <td>460, 2nd Cross, Krishna Temple Road, Indiranag...</td>\n",
       "      <td>9.18041E+11</td>\n",
       "      <td>12.979121</td>\n",
       "      <td>77.644039</td>\n",
       "      <td>4</td>\n",
       "      <td>198</td>\n",
       "      <td>3755.0</td>\n",
       "      <td>4.65</td>\n",
       "      <td>4</td>\n",
       "      <td>0</td>\n",
       "    </tr>\n",
       "    <tr>\n",
       "      <th>5</th>\n",
       "      <td>5</td>\n",
       "      <td>BelgYum</td>\n",
       "      <td>Desserts</td>\n",
       "      <td>400</td>\n",
       "      <td>Phoenix Marketcity Bangalore, Whitefield, Ban...</td>\n",
       "      <td>4.9</td>\n",
       "      <td>1858.0</td>\n",
       "      <td>0.0</td>\n",
       "      <td>0.0</td>\n",
       "      <td>https://www.zomato.com/bangalore/belgyum-white...</td>\n",
       "      <td>16 106/107, 1st Floor, Pheonix Market City, Ma...</td>\n",
       "      <td>9.18067E+11</td>\n",
       "      <td>12.997632</td>\n",
       "      <td>77.696821</td>\n",
       "      <td>1</td>\n",
       "      <td>11</td>\n",
       "      <td>1858.0</td>\n",
       "      <td>2.45</td>\n",
       "      <td>4</td>\n",
       "      <td>0</td>\n",
       "    </tr>\n",
       "    <tr>\n",
       "      <th>9</th>\n",
       "      <td>9</td>\n",
       "      <td>Pasta Street</td>\n",
       "      <td>Italian, European, Pizza, Pasta, Salad, Desser...</td>\n",
       "      <td>1500</td>\n",
       "      <td>Koramangala 4th Block, Bangalore</td>\n",
       "      <td>4.8</td>\n",
       "      <td>1842.0</td>\n",
       "      <td>4.1</td>\n",
       "      <td>1252.0</td>\n",
       "      <td>https://www.zomato.com/bangalore/pasta-street-...</td>\n",
       "      <td>751, 80 Feet Road, Opposite SBI Bank, Koramang...</td>\n",
       "      <td>9.18044E+11</td>\n",
       "      <td>12.932967</td>\n",
       "      <td>77.631118</td>\n",
       "      <td>7</td>\n",
       "      <td>30</td>\n",
       "      <td>3094.0</td>\n",
       "      <td>4.45</td>\n",
       "      <td>4</td>\n",
       "      <td>3</td>\n",
       "    </tr>\n",
       "  </tbody>\n",
       "</table>\n",
       "</div>"
      ],
      "text/plain": [
       "   index       Restaurant_Name  \\\n",
       "0      0           Burma Burma   \n",
       "3      3  Brahmin's Coffee Bar   \n",
       "4      4      Milano Ice Cream   \n",
       "5      5               BelgYum   \n",
       "9      9          Pasta Street   \n",
       "\n",
       "                                            Category  Pricing_for_2  \\\n",
       "0  Asian, Burmese, Bubble Tea, Salad, Tea, Desser...           1500   \n",
       "3                                       South Indian            100   \n",
       "4                     Desserts, Ice Cream, Beverages            400   \n",
       "5                                           Desserts            400   \n",
       "9  Italian, European, Pizza, Pasta, Salad, Desser...           1500   \n",
       "\n",
       "                                            Locality  Dining_Rating  \\\n",
       "0                             Indiranagar, Bangalore            4.9   \n",
       "3                            Basavanagudi, Bangalore            4.9   \n",
       "4                             Indiranagar, Bangalore            4.9   \n",
       "5   Phoenix Marketcity Bangalore, Whitefield, Ban...            4.9   \n",
       "9                   Koramangala 4th Block, Bangalore            4.8   \n",
       "\n",
       "   Dining_Review_Count  Delivery_Rating  Delivery_Rating_Count  \\\n",
       "0               2790.0              4.5                  838.0   \n",
       "3               2975.0              4.4                  372.0   \n",
       "4               2575.0              4.4                 1180.0   \n",
       "5               1858.0              0.0                    0.0   \n",
       "9               1842.0              4.1                 1252.0   \n",
       "\n",
       "                                             Website  \\\n",
       "0  https://www.zomato.com/bangalore/burma-burma-i...   \n",
       "3  https://www.zomato.com/bangalore/brahmins-coff...   \n",
       "4  https://www.zomato.com/bangalore/milano-ice-cr...   \n",
       "5  https://www.zomato.com/bangalore/belgyum-white...   \n",
       "9  https://www.zomato.com/bangalore/pasta-street-...   \n",
       "\n",
       "                                             Address     Phone_No   Latitude  \\\n",
       "0  607, Ground Floor, 12th Main, Hal 2nd Stage, I...  9.18043E+11  12.970394   \n",
       "3       Ranga Rao Road, Near Basavanagudi, Bangalore  9.19845E+11  12.954043   \n",
       "4  460, 2nd Cross, Krishna Temple Road, Indiranag...  9.18041E+11  12.979121   \n",
       "5  16 106/107, 1st Floor, Pheonix Market City, Ma...  9.18067E+11  12.997632   \n",
       "9  751, 80 Feet Road, Opposite SBI Bank, Koramang...  9.18044E+11  12.932967   \n",
       "\n",
       "   Longitude  Category_num  Locality_Score  Popularity_Score  Rating_Score  \\\n",
       "0  77.644713            10             198            3628.0          4.70   \n",
       "3  77.568865             2              74            3347.0          4.65   \n",
       "4  77.644039             4             198            3755.0          4.65   \n",
       "5  77.696821             1              11            1858.0          2.45   \n",
       "9  77.631118             7              30            3094.0          4.45   \n",
       "\n",
       "   label  label2  \n",
       "0      4       3  \n",
       "3      4       0  \n",
       "4      4       0  \n",
       "5      4       0  \n",
       "9      4       3  "
      ]
     },
     "execution_count": 348,
     "metadata": {},
     "output_type": "execute_result"
    }
   ],
   "source": [
    "kmean_x_data1 = KMeans(n_clusters=4, random_state=0)\n",
    "clusters = kmean_x_data1.fit_predict(x_df)\n",
    "filter_df[\"label2\"] = clusters\n",
    "filter_df.head()"
   ]
  },
  {
   "cell_type": "code",
   "execution_count": 352,
   "id": "544c7b5c",
   "metadata": {},
   "outputs": [
    {
     "name": "stderr",
     "output_type": "stream",
     "text": [
      "No handles with labels found to put in legend.\n"
     ]
    },
    {
     "data": {
      "image/png": "[encoded data removed]",
      "text/plain": [
       "<Figure size 1440x720 with 1 Axes>"
      ]
     },
     "metadata": {},
     "output_type": "display_data"
    }
   ],
   "source": [
    "fig = plt.figure(figsize=(20,10))\n",
    "ax = fig.add_subplot(111)\n",
    "ax.scatter( filter_df[\"Pricing_for_2\"][filter_df.label2 == 0], filter_df[\"Locality_Score\"][filter_df.label2 == 0], c='blue', s=60)\n",
    "ax.scatter(filter_df[\"Pricing_for_2\"][filter_df.label2 == 1], filter_df[\"Locality_Score\"][filter_df.label2 == 1], c='red', s=60)\n",
    "ax.scatter( filter_df[\"Pricing_for_2\"][filter_df.label2 == 2], filter_df[\"Locality_Score\"][filter_df.label2 == 2], c='green', s=60)\n",
    "ax.scatter( filter_df[\"Pricing_for_2\"][filter_df.label2 == 3], filter_df[\"Locality_Score\"][filter_df.label2 == 3], c='orange', s=60)\n",
    "#ax.scatter( filter_df[\"Pricing_for_2\"][filter_df.label2 == 4], filter_df[\"Locality_Score\"][filter_df.label2 == 4], c='purple', s=60)\n",
    "#ax.scatter( filter_df[\"Pricing_for_2\"][filter_df.label2 == 5], filter_df[\"Locality_Score\"][filter_df.label2 == 5], c='pink', s=60)\n",
    "#ax.scatter(kmean_x_data1.cluster_centers_[:,0], kmean_x_data1.cluster_centers_[:,1],kmean_x_data1.cluster_centers_[:,2],kmean_x_data1.cluster_centers_[:,3],color=\"black\", label2=\"Centroids\",marker='*',s =90)\n",
    "#ax.view_init(30, 185)\n",
    "plt.legend()\n",
    "plt.xlabel(\"Pricing_for_2\")\n",
    "plt.ylabel(\"Locality Score \")\n",
    "#ax.set_zlabel2('delivery_rating ')\n",
    "plt.show()"
   ]
  },
  {
   "cell_type": "code",
   "execution_count": 353,
   "id": "5e86e24e",
   "metadata": {},
   "outputs": [
    {
     "data": {
      "text/plain": [
       "0    694\n",
       "2    294\n",
       "3    100\n",
       "1     41\n",
       "Name: label2, dtype: int64"
      ]
     },
     "execution_count": 353,
     "metadata": {},
     "output_type": "execute_result"
    }
   ],
   "source": [
    "filter_df.label2.value_counts()"
   ]
  },
  {
   "cell_type": "code",
   "execution_count": null,
   "id": "c0c95513",
   "metadata": {},
   "outputs": [],
   "source": []
  },
  {
   "cell_type": "code",
   "execution_count": 354,
   "id": "a6862e64",
   "metadata": {},
   "outputs": [
    {
     "data": {
      "image/png": "[encoded data removed]",
      "text/plain": [
       "<Figure size 432x288 with 1 Axes>"
      ]
     },
     "metadata": {},
     "output_type": "display_data"
    }
   ],
   "source": [
    "from sklearn.cluster import KMeans\n",
    "x_df = filter_df[[\"Pricing_for_2\",\"Rating_Score\"]] \n",
    "wcss = []\n",
    "for k in range(1,15):\n",
    "    kmean = KMeans(n_clusters=k, random_state=0)\n",
    "    kmean.fit(x_df)\n",
    "    wcss.append(kmean.inertia_)\n",
    "    \n",
    "plt.plot(range(1,15), wcss)\n",
    "plt.xlabel(\"Number of k (cluster) values\")\n",
    "plt.ylabel(\"Inertia - WCSS\")\n",
    "plt.title(\"Finding Optimum Number of K\")\n",
    "plt.show()"
   ]
  },
  {
   "cell_type": "code",
   "execution_count": 355,
   "id": "24e4efb6",
   "metadata": {},
   "outputs": [
    {
     "data": {
      "text/html": [
       "<div>\n",
       "<style scoped>\n",
       "    .dataframe tbody tr th:only-of-type {\n",
       "        vertical-align: middle;\n",
       "    }\n",
       "\n",
       "    .dataframe tbody tr th {\n",
       "        vertical-align: top;\n",
       "    }\n",
       "\n",
       "    .dataframe thead th {\n",
       "        text-align: right;\n",
       "    }\n",
       "</style>\n",
       "<table border=\"1\" class=\"dataframe\">\n",
       "  <thead>\n",
       "    <tr style=\"text-align: right;\">\n",
       "      <th></th>\n",
       "      <th>index</th>\n",
       "      <th>Restaurant_Name</th>\n",
       "      <th>Category</th>\n",
       "      <th>Pricing_for_2</th>\n",
       "      <th>Locality</th>\n",
       "      <th>Dining_Rating</th>\n",
       "      <th>Dining_Review_Count</th>\n",
       "      <th>Delivery_Rating</th>\n",
       "      <th>Delivery_Rating_Count</th>\n",
       "      <th>Website</th>\n",
       "      <th>...</th>\n",
       "      <th>Phone_No</th>\n",
       "      <th>Latitude</th>\n",
       "      <th>Longitude</th>\n",
       "      <th>Category_num</th>\n",
       "      <th>Locality_Score</th>\n",
       "      <th>Popularity_Score</th>\n",
       "      <th>Rating_Score</th>\n",
       "      <th>label</th>\n",
       "      <th>label2</th>\n",
       "      <th>label3</th>\n",
       "    </tr>\n",
       "  </thead>\n",
       "  <tbody>\n",
       "    <tr>\n",
       "      <th>0</th>\n",
       "      <td>0</td>\n",
       "      <td>Burma Burma</td>\n",
       "      <td>Asian, Burmese, Bubble Tea, Salad, Tea, Desser...</td>\n",
       "      <td>1500</td>\n",
       "      <td>Indiranagar, Bangalore</td>\n",
       "      <td>4.9</td>\n",
       "      <td>2790.0</td>\n",
       "      <td>4.5</td>\n",
       "      <td>838.0</td>\n",
       "      <td>https://www.zomato.com/bangalore/burma-burma-i...</td>\n",
       "      <td>...</td>\n",
       "      <td>9.18043E+11</td>\n",
       "      <td>12.970394</td>\n",
       "      <td>77.644713</td>\n",
       "      <td>10</td>\n",
       "      <td>198</td>\n",
       "      <td>3628.0</td>\n",
       "      <td>4.70</td>\n",
       "      <td>4</td>\n",
       "      <td>3</td>\n",
       "      <td>1</td>\n",
       "    </tr>\n",
       "    <tr>\n",
       "      <th>3</th>\n",
       "      <td>3</td>\n",
       "      <td>Brahmin's Coffee Bar</td>\n",
       "      <td>South Indian</td>\n",
       "      <td>100</td>\n",
       "      <td>Basavanagudi, Bangalore</td>\n",
       "      <td>4.9</td>\n",
       "      <td>2975.0</td>\n",
       "      <td>4.4</td>\n",
       "      <td>372.0</td>\n",
       "      <td>https://www.zomato.com/bangalore/brahmins-coff...</td>\n",
       "      <td>...</td>\n",
       "      <td>9.19845E+11</td>\n",
       "      <td>12.954043</td>\n",
       "      <td>77.568865</td>\n",
       "      <td>2</td>\n",
       "      <td>74</td>\n",
       "      <td>3347.0</td>\n",
       "      <td>4.65</td>\n",
       "      <td>4</td>\n",
       "      <td>0</td>\n",
       "      <td>0</td>\n",
       "    </tr>\n",
       "    <tr>\n",
       "      <th>4</th>\n",
       "      <td>4</td>\n",
       "      <td>Milano Ice Cream</td>\n",
       "      <td>Desserts, Ice Cream, Beverages</td>\n",
       "      <td>400</td>\n",
       "      <td>Indiranagar, Bangalore</td>\n",
       "      <td>4.9</td>\n",
       "      <td>2575.0</td>\n",
       "      <td>4.4</td>\n",
       "      <td>1180.0</td>\n",
       "      <td>https://www.zomato.com/bangalore/milano-ice-cr...</td>\n",
       "      <td>...</td>\n",
       "      <td>9.18041E+11</td>\n",
       "      <td>12.979121</td>\n",
       "      <td>77.644039</td>\n",
       "      <td>4</td>\n",
       "      <td>198</td>\n",
       "      <td>3755.0</td>\n",
       "      <td>4.65</td>\n",
       "      <td>4</td>\n",
       "      <td>0</td>\n",
       "      <td>0</td>\n",
       "    </tr>\n",
       "    <tr>\n",
       "      <th>5</th>\n",
       "      <td>5</td>\n",
       "      <td>BelgYum</td>\n",
       "      <td>Desserts</td>\n",
       "      <td>400</td>\n",
       "      <td>Phoenix Marketcity Bangalore, Whitefield, Ban...</td>\n",
       "      <td>4.9</td>\n",
       "      <td>1858.0</td>\n",
       "      <td>0.0</td>\n",
       "      <td>0.0</td>\n",
       "      <td>https://www.zomato.com/bangalore/belgyum-white...</td>\n",
       "      <td>...</td>\n",
       "      <td>9.18067E+11</td>\n",
       "      <td>12.997632</td>\n",
       "      <td>77.696821</td>\n",
       "      <td>1</td>\n",
       "      <td>11</td>\n",
       "      <td>1858.0</td>\n",
       "      <td>2.45</td>\n",
       "      <td>4</td>\n",
       "      <td>0</td>\n",
       "      <td>0</td>\n",
       "    </tr>\n",
       "    <tr>\n",
       "      <th>9</th>\n",
       "      <td>9</td>\n",
       "      <td>Pasta Street</td>\n",
       "      <td>Italian, European, Pizza, Pasta, Salad, Desser...</td>\n",
       "      <td>1500</td>\n",
       "      <td>Koramangala 4th Block, Bangalore</td>\n",
       "      <td>4.8</td>\n",
       "      <td>1842.0</td>\n",
       "      <td>4.1</td>\n",
       "      <td>1252.0</td>\n",
       "      <td>https://www.zomato.com/bangalore/pasta-street-...</td>\n",
       "      <td>...</td>\n",
       "      <td>9.18044E+11</td>\n",
       "      <td>12.932967</td>\n",
       "      <td>77.631118</td>\n",
       "      <td>7</td>\n",
       "      <td>30</td>\n",
       "      <td>3094.0</td>\n",
       "      <td>4.45</td>\n",
       "      <td>4</td>\n",
       "      <td>3</td>\n",
       "      <td>1</td>\n",
       "    </tr>\n",
       "  </tbody>\n",
       "</table>\n",
       "<p>5 rows × 21 columns</p>\n",
       "</div>"
      ],
      "text/plain": [
       "   index       Restaurant_Name  \\\n",
       "0      0           Burma Burma   \n",
       "3      3  Brahmin's Coffee Bar   \n",
       "4      4      Milano Ice Cream   \n",
       "5      5               BelgYum   \n",
       "9      9          Pasta Street   \n",
       "\n",
       "                                            Category  Pricing_for_2  \\\n",
       "0  Asian, Burmese, Bubble Tea, Salad, Tea, Desser...           1500   \n",
       "3                                       South Indian            100   \n",
       "4                     Desserts, Ice Cream, Beverages            400   \n",
       "5                                           Desserts            400   \n",
       "9  Italian, European, Pizza, Pasta, Salad, Desser...           1500   \n",
       "\n",
       "                                            Locality  Dining_Rating  \\\n",
       "0                             Indiranagar, Bangalore            4.9   \n",
       "3                            Basavanagudi, Bangalore            4.9   \n",
       "4                             Indiranagar, Bangalore            4.9   \n",
       "5   Phoenix Marketcity Bangalore, Whitefield, Ban...            4.9   \n",
       "9                   Koramangala 4th Block, Bangalore            4.8   \n",
       "\n",
       "   Dining_Review_Count  Delivery_Rating  Delivery_Rating_Count  \\\n",
       "0               2790.0              4.5                  838.0   \n",
       "3               2975.0              4.4                  372.0   \n",
       "4               2575.0              4.4                 1180.0   \n",
       "5               1858.0              0.0                    0.0   \n",
       "9               1842.0              4.1                 1252.0   \n",
       "\n",
       "                                             Website  ...     Phone_No  \\\n",
       "0  https://www.zomato.com/bangalore/burma-burma-i...  ...  9.18043E+11   \n",
       "3  https://www.zomato.com/bangalore/brahmins-coff...  ...  9.19845E+11   \n",
       "4  https://www.zomato.com/bangalore/milano-ice-cr...  ...  9.18041E+11   \n",
       "5  https://www.zomato.com/bangalore/belgyum-white...  ...  9.18067E+11   \n",
       "9  https://www.zomato.com/bangalore/pasta-street-...  ...  9.18044E+11   \n",
       "\n",
       "    Latitude  Longitude  Category_num  Locality_Score  Popularity_Score  \\\n",
       "0  12.970394  77.644713            10             198            3628.0   \n",
       "3  12.954043  77.568865             2              74            3347.0   \n",
       "4  12.979121  77.644039             4             198            3755.0   \n",
       "5  12.997632  77.696821             1              11            1858.0   \n",
       "9  12.932967  77.631118             7              30            3094.0   \n",
       "\n",
       "   Rating_Score  label  label2  label3  \n",
       "0          4.70      4       3       1  \n",
       "3          4.65      4       0       0  \n",
       "4          4.65      4       0       0  \n",
       "5          2.45      4       0       0  \n",
       "9          4.45      4       3       1  \n",
       "\n",
       "[5 rows x 21 columns]"
      ]
     },
     "execution_count": 355,
     "metadata": {},
     "output_type": "execute_result"
    }
   ],
   "source": [
    "kmean_x_data1 = KMeans(n_clusters=4, random_state=0)\n",
    "clusters = kmean_x_data1.fit_predict(x_df)\n",
    "filter_df[\"label3\"] = clusters\n",
    "filter_df.head()"
   ]
  },
  {
   "cell_type": "code",
   "execution_count": 356,
   "id": "4302b297",
   "metadata": {},
   "outputs": [
    {
     "name": "stderr",
     "output_type": "stream",
     "text": [
      "No handles with labels found to put in legend.\n"
     ]
    },
    {
     "data": {
      "image/png": "[encoded data removed]",
      "text/plain": [
       "<Figure size 1440x720 with 1 Axes>"
      ]
     },
     "metadata": {},
     "output_type": "display_data"
    }
   ],
   "source": [
    "fig = plt.figure(figsize=(20,10))\n",
    "ax = fig.add_subplot(111)\n",
    "ax.scatter( filter_df[\"Pricing_for_2\"][filter_df.label3 == 0], filter_df[\"Rating_Score\"][filter_df.label3 == 0], c='blue', s=60)\n",
    "ax.scatter(filter_df[\"Pricing_for_2\"][filter_df.label3 == 1], filter_df[\"Rating_Score\"][filter_df.label3 == 1], c='red', s=60)\n",
    "ax.scatter( filter_df[\"Pricing_for_2\"][filter_df.label3 == 2], filter_df[\"Rating_Score\"][filter_df.label3 == 2], c='green', s=60)\n",
    "ax.scatter( filter_df[\"Pricing_for_2\"][filter_df.label3 == 3], filter_df[\"Rating_Score\"][filter_df.label3 == 3], c='orange', s=60)\n",
    "#ax.scatter( filter_df[\"Pricing_for_2\"][filter_df.label3 == 4], filter_df[\"Rating_Score\"][filter_df.label3 == 4], c='purple', s=60)\n",
    "#ax.scatter( filter_df[\"Pricing_for_2\"][filter_df.label3 == 5], filter_df[\"Rating_Score\"][filter_df.label3 == 5], c='pink', s=60)\n",
    "#ax.scatter(kmean_x_data1.cluster_centers_[:,0], kmean_x_data1.cluster_centers_[:,1],kmean_x_data1.cluster_centers_[:,2],kmean_x_data1.cluster_centers_[:,3],color=\"black\", label3=\"Centroids\",marker='*',s =90)\n",
    "#ax.view_init(30, 185)\n",
    "plt.legend()\n",
    "plt.xlabel(\"Pricing_for_2\")\n",
    "plt.ylabel(\"Rating Score \")\n",
    "#ax.set_zlabel3('delivery_rating ')\n",
    "plt.show()"
   ]
  },
  {
   "cell_type": "code",
   "execution_count": 357,
   "id": "1656e397",
   "metadata": {},
   "outputs": [
    {
     "data": {
      "text/plain": [
       "0    712\n",
       "2    286\n",
       "1     99\n",
       "3     32\n",
       "Name: label3, dtype: int64"
      ]
     },
     "execution_count": 357,
     "metadata": {},
     "output_type": "execute_result"
    }
   ],
   "source": [
    "filter_df.label3.value_counts()"
   ]
  },
  {
   "cell_type": "code",
   "execution_count": null,
   "id": "fdf495d6",
   "metadata": {},
   "outputs": [],
   "source": []
  },
  {
   "cell_type": "code",
   "execution_count": 359,
   "id": "24f3a44c",
   "metadata": {
    "scrolled": true
   },
   "outputs": [],
   "source": [
    "final_df2 = filter_df[filter_df.label3 ==2]\n",
    "final_df1 = filter_df[filter_df.label3 ==1]"
   ]
  },
  {
   "cell_type": "code",
   "execution_count": 360,
   "id": "b58c4b24",
   "metadata": {},
   "outputs": [],
   "source": [
    "final_df = pd.concat([final_df2,final_df1])"
   ]
  },
  {
   "cell_type": "code",
   "execution_count": 368,
   "id": "3b984824",
   "metadata": {},
   "outputs": [
    {
     "name": "stdout",
     "output_type": "stream",
     "text": [
      "<class 'pandas.core.frame.DataFrame'>\n",
      "Int64Index: 385 entries, 13 to 38\n",
      "Data columns (total 22 columns):\n",
      " #   Column                 Non-Null Count  Dtype  \n",
      "---  ------                 --------------  -----  \n",
      " 0   index                  385 non-null    int64  \n",
      " 1   Restaurant_Name        385 non-null    object \n",
      " 2   Category               385 non-null    object \n",
      " 3   Pricing_for_2          385 non-null    int64  \n",
      " 4   Locality               385 non-null    object \n",
      " 5   Dining_Rating          385 non-null    float64\n",
      " 6   Dining_Review_Count    385 non-null    float64\n",
      " 7   Delivery_Rating        385 non-null    float64\n",
      " 8   Delivery_Rating_Count  385 non-null    float64\n",
      " 9   Website                385 non-null    object \n",
      " 10  Address                385 non-null    object \n",
      " 11  Phone_No               385 non-null    object \n",
      " 12  Latitude               385 non-null    float64\n",
      " 13  Longitude              385 non-null    float64\n",
      " 14  Category_num           385 non-null    int64  \n",
      " 15  Locality_Score         385 non-null    int64  \n",
      " 16  Popularity_Score       385 non-null    float64\n",
      " 17  Rating_Score           385 non-null    float64\n",
      " 18  label                  385 non-null    int32  \n",
      " 19  label2                 385 non-null    int32  \n",
      " 20  label3                 385 non-null    int32  \n",
      " 21  label4                 385 non-null    int32  \n",
      "dtypes: float64(8), int32(4), int64(4), object(6)\n",
      "memory usage: 63.2+ KB\n"
     ]
    }
   ],
   "source": [
    "final_df.info()"
   ]
  },
  {
   "cell_type": "code",
   "execution_count": 361,
   "id": "9b37ba5e",
   "metadata": {},
   "outputs": [
    {
     "data": {
      "image/png": "[encoded data removed]",
      "text/plain": [
       "<Figure size 432x288 with 1 Axes>"
      ]
     },
     "metadata": {},
     "output_type": "display_data"
    }
   ],
   "source": [
    "from sklearn.cluster import KMeans\n",
    "x_df = final_df[[\"Locality_Score\",\"Rating_Score\"]] \n",
    "wcss = []\n",
    "for k in range(1,15):\n",
    "    kmean = KMeans(n_clusters=k, random_state=0)\n",
    "    kmean.fit(x_df)\n",
    "    wcss.append(kmean.inertia_)\n",
    "    \n",
    "plt.plot(range(1,15), wcss)\n",
    "plt.xlabel(\"Number of k (cluster) values\")\n",
    "plt.ylabel(\"Inertia - WCSS\")\n",
    "plt.title(\"Finding Optimum Number of K\")\n",
    "plt.show()"
   ]
  },
  {
   "cell_type": "code",
   "execution_count": 369,
   "id": "a8bbadfc",
   "metadata": {},
   "outputs": [
    {
     "data": {
      "text/html": [
       "<div>\n",
       "<style scoped>\n",
       "    .dataframe tbody tr th:only-of-type {\n",
       "        vertical-align: middle;\n",
       "    }\n",
       "\n",
       "    .dataframe tbody tr th {\n",
       "        vertical-align: top;\n",
       "    }\n",
       "\n",
       "    .dataframe thead th {\n",
       "        text-align: right;\n",
       "    }\n",
       "</style>\n",
       "<table border=\"1\" class=\"dataframe\">\n",
       "  <thead>\n",
       "    <tr style=\"text-align: right;\">\n",
       "      <th></th>\n",
       "      <th>index</th>\n",
       "      <th>Restaurant_Name</th>\n",
       "      <th>Category</th>\n",
       "      <th>Pricing_for_2</th>\n",
       "      <th>Locality</th>\n",
       "      <th>Dining_Rating</th>\n",
       "      <th>Dining_Review_Count</th>\n",
       "      <th>Delivery_Rating</th>\n",
       "      <th>Delivery_Rating_Count</th>\n",
       "      <th>Website</th>\n",
       "      <th>...</th>\n",
       "      <th>Latitude</th>\n",
       "      <th>Longitude</th>\n",
       "      <th>Category_num</th>\n",
       "      <th>Locality_Score</th>\n",
       "      <th>Popularity_Score</th>\n",
       "      <th>Rating_Score</th>\n",
       "      <th>label</th>\n",
       "      <th>label2</th>\n",
       "      <th>label3</th>\n",
       "      <th>label4</th>\n",
       "    </tr>\n",
       "  </thead>\n",
       "  <tbody>\n",
       "    <tr>\n",
       "      <th>13</th>\n",
       "      <td>13</td>\n",
       "      <td>Brik Oven</td>\n",
       "      <td>Cafe, Italian, Fast Food, Desserts</td>\n",
       "      <td>1000</td>\n",
       "      <td>Church Street, Bangalore</td>\n",
       "      <td>4.8</td>\n",
       "      <td>2798.0</td>\n",
       "      <td>4.1</td>\n",
       "      <td>543.0</td>\n",
       "      <td>https://www.zomato.com/bangalore/brik-oven-chu...</td>\n",
       "      <td>...</td>\n",
       "      <td>12.974725</td>\n",
       "      <td>77.605412</td>\n",
       "      <td>5</td>\n",
       "      <td>24</td>\n",
       "      <td>3341.0</td>\n",
       "      <td>4.45</td>\n",
       "      <td>4</td>\n",
       "      <td>2</td>\n",
       "      <td>2</td>\n",
       "      <td>0</td>\n",
       "    </tr>\n",
       "    <tr>\n",
       "      <th>27</th>\n",
       "      <td>27</td>\n",
       "      <td>SMOOR</td>\n",
       "      <td>Italian, Thai, Pizza, Fast Food, Desserts, Bev...</td>\n",
       "      <td>900</td>\n",
       "      <td>Indiranagar, Bangalore</td>\n",
       "      <td>4.7</td>\n",
       "      <td>2086.0</td>\n",
       "      <td>4.4</td>\n",
       "      <td>3577.0</td>\n",
       "      <td>https://www.zomato.com/bangalore/smoor-2-indir...</td>\n",
       "      <td>...</td>\n",
       "      <td>12.969931</td>\n",
       "      <td>77.641421</td>\n",
       "      <td>7</td>\n",
       "      <td>198</td>\n",
       "      <td>5663.0</td>\n",
       "      <td>4.55</td>\n",
       "      <td>4</td>\n",
       "      <td>2</td>\n",
       "      <td>2</td>\n",
       "      <td>1</td>\n",
       "    </tr>\n",
       "    <tr>\n",
       "      <th>29</th>\n",
       "      <td>29</td>\n",
       "      <td>Here &amp; Now</td>\n",
       "      <td>Cafe, American, Burger, Sandwich, Desserts, Be...</td>\n",
       "      <td>900</td>\n",
       "      <td>HSR, Bangalore</td>\n",
       "      <td>4.7</td>\n",
       "      <td>1869.0</td>\n",
       "      <td>4.0</td>\n",
       "      <td>304.0</td>\n",
       "      <td>https://www.zomato.com/bangalore/here-now-hsr</td>\n",
       "      <td>...</td>\n",
       "      <td>12.913569</td>\n",
       "      <td>77.638203</td>\n",
       "      <td>6</td>\n",
       "      <td>193</td>\n",
       "      <td>2173.0</td>\n",
       "      <td>4.35</td>\n",
       "      <td>4</td>\n",
       "      <td>2</td>\n",
       "      <td>2</td>\n",
       "      <td>1</td>\n",
       "    </tr>\n",
       "    <tr>\n",
       "      <th>47</th>\n",
       "      <td>47</td>\n",
       "      <td>The Pizza Bakery - Brew &amp; Eatery</td>\n",
       "      <td>Pizza, Italian, Desserts, Beverages</td>\n",
       "      <td>1000</td>\n",
       "      <td>Indiranagar, Bangalore</td>\n",
       "      <td>4.6</td>\n",
       "      <td>2497.0</td>\n",
       "      <td>4.3</td>\n",
       "      <td>2526.0</td>\n",
       "      <td>https://www.zomato.com/bangalore/the-pizza-bak...</td>\n",
       "      <td>...</td>\n",
       "      <td>12.970330</td>\n",
       "      <td>77.644672</td>\n",
       "      <td>4</td>\n",
       "      <td>198</td>\n",
       "      <td>5023.0</td>\n",
       "      <td>4.45</td>\n",
       "      <td>4</td>\n",
       "      <td>2</td>\n",
       "      <td>2</td>\n",
       "      <td>1</td>\n",
       "    </tr>\n",
       "    <tr>\n",
       "      <th>49</th>\n",
       "      <td>49</td>\n",
       "      <td>Phobidden Fruit</td>\n",
       "      <td>Vietnamese, Desserts, Thai</td>\n",
       "      <td>1100</td>\n",
       "      <td>Indiranagar, Bangalore</td>\n",
       "      <td>4.5</td>\n",
       "      <td>3184.0</td>\n",
       "      <td>4.4</td>\n",
       "      <td>252.0</td>\n",
       "      <td>https://www.zomato.com/bangalore/phobidden-fru...</td>\n",
       "      <td>...</td>\n",
       "      <td>12.970068</td>\n",
       "      <td>77.639660</td>\n",
       "      <td>3</td>\n",
       "      <td>198</td>\n",
       "      <td>3436.0</td>\n",
       "      <td>4.45</td>\n",
       "      <td>4</td>\n",
       "      <td>3</td>\n",
       "      <td>2</td>\n",
       "      <td>1</td>\n",
       "    </tr>\n",
       "  </tbody>\n",
       "</table>\n",
       "<p>5 rows × 22 columns</p>\n",
       "</div>"
      ],
      "text/plain": [
       "    index                   Restaurant_Name  \\\n",
       "13     13                         Brik Oven   \n",
       "27     27                             SMOOR   \n",
       "29     29                        Here & Now   \n",
       "47     47  The Pizza Bakery - Brew & Eatery   \n",
       "49     49                   Phobidden Fruit   \n",
       "\n",
       "                                             Category  Pricing_for_2  \\\n",
       "13                 Cafe, Italian, Fast Food, Desserts           1000   \n",
       "27  Italian, Thai, Pizza, Fast Food, Desserts, Bev...            900   \n",
       "29  Cafe, American, Burger, Sandwich, Desserts, Be...            900   \n",
       "47                Pizza, Italian, Desserts, Beverages           1000   \n",
       "49                         Vietnamese, Desserts, Thai           1100   \n",
       "\n",
       "                     Locality  Dining_Rating  Dining_Review_Count  \\\n",
       "13   Church Street, Bangalore            4.8               2798.0   \n",
       "27     Indiranagar, Bangalore            4.7               2086.0   \n",
       "29             HSR, Bangalore            4.7               1869.0   \n",
       "47     Indiranagar, Bangalore            4.6               2497.0   \n",
       "49     Indiranagar, Bangalore            4.5               3184.0   \n",
       "\n",
       "    Delivery_Rating  Delivery_Rating_Count  \\\n",
       "13              4.1                  543.0   \n",
       "27              4.4                 3577.0   \n",
       "29              4.0                  304.0   \n",
       "47              4.3                 2526.0   \n",
       "49              4.4                  252.0   \n",
       "\n",
       "                                              Website  ...   Latitude  \\\n",
       "13  https://www.zomato.com/bangalore/brik-oven-chu...  ...  12.974725   \n",
       "27  https://www.zomato.com/bangalore/smoor-2-indir...  ...  12.969931   \n",
       "29      https://www.zomato.com/bangalore/here-now-hsr  ...  12.913569   \n",
       "47  https://www.zomato.com/bangalore/the-pizza-bak...  ...  12.970330   \n",
       "49  https://www.zomato.com/bangalore/phobidden-fru...  ...  12.970068   \n",
       "\n",
       "    Longitude  Category_num  Locality_Score  Popularity_Score  Rating_Score  \\\n",
       "13  77.605412             5              24            3341.0          4.45   \n",
       "27  77.641421             7             198            5663.0          4.55   \n",
       "29  77.638203             6             193            2173.0          4.35   \n",
       "47  77.644672             4             198            5023.0          4.45   \n",
       "49  77.639660             3             198            3436.0          4.45   \n",
       "\n",
       "    label  label2  label3  label4  \n",
       "13      4       2       2       0  \n",
       "27      4       2       2       1  \n",
       "29      4       2       2       1  \n",
       "47      4       2       2       1  \n",
       "49      4       3       2       1  \n",
       "\n",
       "[5 rows x 22 columns]"
      ]
     },
     "execution_count": 369,
     "metadata": {},
     "output_type": "execute_result"
    }
   ],
   "source": [
    "kmean_x_data1 = KMeans(n_clusters=3, random_state=0)\n",
    "clusters = kmean_x_data1.fit_predict(x_df)\n",
    "final_df[\"label4\"] = clusters\n",
    "final_df.head()"
   ]
  },
  {
   "cell_type": "code",
   "execution_count": 370,
   "id": "ea257987",
   "metadata": {},
   "outputs": [
    {
     "name": "stderr",
     "output_type": "stream",
     "text": [
      "No handles with labels found to put in legend.\n"
     ]
    },
    {
     "data": {
      "image/png": "[encoded data removed]",
      "text/plain": [
       "<Figure size 1440x720 with 1 Axes>"
      ]
     },
     "metadata": {},
     "output_type": "display_data"
    }
   ],
   "source": [
    "fig = plt.figure(figsize=(20,10))\n",
    "ax = fig.add_subplot(111)\n",
    "ax.scatter( final_df[\"Locality_Score\"][final_df.label4 == 0], final_df[\"Rating_Score\"][final_df.label4 == 0], c='blue', s=60)\n",
    "ax.scatter(final_df[\"Locality_Score\"][final_df.label4 == 1], final_df[\"Rating_Score\"][final_df.label4 == 1], c='red', s=60)\n",
    "ax.scatter( final_df[\"Locality_Score\"][final_df.label4 == 2], final_df[\"Rating_Score\"][final_df.label4 == 2], c='green', s=60)\n",
    "#ax.scatter( final_df[\"Locality_Score\"][final_df.label4 == 3], final_df[\"Rating_Score\"][final_df.label4 == 3], c='orange', s=60)\n",
    "#ax.scatter( final_df[\"Locality_Score\"][final_df.label4 == 4], final_df[\"Locality_Score\"][final_df.label4 == 4], c='purple', s=60)\n",
    "#ax.scatter( final_df[\"Locality_Score\"][final_df.label4 == 5], final_df[\"Locality_Score\"][final_df.label4 == 5], c='pink', s=60)\n",
    "#ax.scatter(kmean_x_data1.cluster_centers_[:,0], kmean_x_data1.cluster_centers_[:,1],kmean_x_data1.cluster_centers_[:,2],kmean_x_data1.cluster_centers_[:,3],color=\"black\", label4=\"Centroids\",marker='*',s =90)\n",
    "#ax.view_init(30, 185)\n",
    "plt.legend()\n",
    "plt.xlabel(\"Locality_Score\")\n",
    "plt.ylabel(\"Rating Score \")\n",
    "#ax.set_zlabel4('delivery_rating ')\n",
    "plt.show()"
   ]
  },
  {
   "cell_type": "code",
   "execution_count": 371,
   "id": "c6443e1a",
   "metadata": {},
   "outputs": [
    {
     "data": {
      "text/plain": [
       "0    184\n",
       "1    105\n",
       "2     96\n",
       "Name: label4, dtype: int64"
      ]
     },
     "execution_count": 371,
     "metadata": {},
     "output_type": "execute_result"
    }
   ],
   "source": [
    "final_df.label4.value_counts()"
   ]
  },
  {
   "cell_type": "code",
   "execution_count": 372,
   "id": "6f6e0000",
   "metadata": {},
   "outputs": [],
   "source": [
    "selected_df2 = final_df[final_df.label4 ==2]\n",
    "selected_df1 = final_df[final_df.label4 ==1]"
   ]
  },
  {
   "cell_type": "code",
   "execution_count": 373,
   "id": "3dfc224a",
   "metadata": {},
   "outputs": [],
   "source": [
    "selected_df = pd.concat([selected_df2,selected_df1])"
   ]
  },
  {
   "cell_type": "code",
   "execution_count": 379,
   "id": "5b85dbd9",
   "metadata": {},
   "outputs": [
    {
     "data": {
      "text/plain": [
       "Index(['index', 'Restaurant_Name', 'Category', 'Pricing_for_2', 'Locality',\n",
       "       'Dining_Rating', 'Dining_Review_Count', 'Delivery_Rating',\n",
       "       'Delivery_Rating_Count', 'Website', 'Address', 'Phone_No', 'Latitude',\n",
       "       'Longitude', 'Category_num', 'Locality_Score', 'Popularity_Score',\n",
       "       'Rating_Score', 'label', 'label2', 'label3', 'label4'],\n",
       "      dtype='object')"
      ]
     },
     "execution_count": 379,
     "metadata": {},
     "output_type": "execute_result"
    }
   ],
   "source": [
    "selected_df.columns"
   ]
  },
  {
   "cell_type": "code",
   "execution_count": 382,
   "id": "154879be",
   "metadata": {
    "scrolled": true
   },
   "outputs": [
    {
     "data": {
      "text/html": [
       "<div>\n",
       "<style scoped>\n",
       "    .dataframe tbody tr th:only-of-type {\n",
       "        vertical-align: middle;\n",
       "    }\n",
       "\n",
       "    .dataframe tbody tr th {\n",
       "        vertical-align: top;\n",
       "    }\n",
       "\n",
       "    .dataframe thead th {\n",
       "        text-align: right;\n",
       "    }\n",
       "</style>\n",
       "<table border=\"1\" class=\"dataframe\">\n",
       "  <thead>\n",
       "    <tr style=\"text-align: right;\">\n",
       "      <th></th>\n",
       "      <th>Pricing_for_2</th>\n",
       "      <th>Dining_Rating</th>\n",
       "      <th>Dining_Review_Count</th>\n",
       "      <th>Delivery_Rating</th>\n",
       "      <th>Delivery_Rating_Count</th>\n",
       "    </tr>\n",
       "  </thead>\n",
       "  <tbody>\n",
       "    <tr>\n",
       "      <th>count</th>\n",
       "      <td>201.000000</td>\n",
       "      <td>201.000000</td>\n",
       "      <td>201.000000</td>\n",
       "      <td>201.000000</td>\n",
       "      <td>201.000000</td>\n",
       "    </tr>\n",
       "    <tr>\n",
       "      <th>mean</th>\n",
       "      <td>957.213930</td>\n",
       "      <td>4.156219</td>\n",
       "      <td>1497.263682</td>\n",
       "      <td>3.859701</td>\n",
       "      <td>3938.517413</td>\n",
       "    </tr>\n",
       "    <tr>\n",
       "      <th>std</th>\n",
       "      <td>354.556341</td>\n",
       "      <td>0.295928</td>\n",
       "      <td>1759.056769</td>\n",
       "      <td>0.532652</td>\n",
       "      <td>4502.253610</td>\n",
       "    </tr>\n",
       "    <tr>\n",
       "      <th>min</th>\n",
       "      <td>600.000000</td>\n",
       "      <td>3.400000</td>\n",
       "      <td>6.000000</td>\n",
       "      <td>0.000000</td>\n",
       "      <td>0.000000</td>\n",
       "    </tr>\n",
       "    <tr>\n",
       "      <th>25%</th>\n",
       "      <td>700.000000</td>\n",
       "      <td>4.000000</td>\n",
       "      <td>348.000000</td>\n",
       "      <td>3.800000</td>\n",
       "      <td>966.000000</td>\n",
       "    </tr>\n",
       "    <tr>\n",
       "      <th>50%</th>\n",
       "      <td>800.000000</td>\n",
       "      <td>4.200000</td>\n",
       "      <td>864.000000</td>\n",
       "      <td>3.900000</td>\n",
       "      <td>2350.000000</td>\n",
       "    </tr>\n",
       "    <tr>\n",
       "      <th>75%</th>\n",
       "      <td>1200.000000</td>\n",
       "      <td>4.400000</td>\n",
       "      <td>2249.000000</td>\n",
       "      <td>4.100000</td>\n",
       "      <td>4911.000000</td>\n",
       "    </tr>\n",
       "    <tr>\n",
       "      <th>max</th>\n",
       "      <td>1800.000000</td>\n",
       "      <td>4.900000</td>\n",
       "      <td>16300.000000</td>\n",
       "      <td>4.500000</td>\n",
       "      <td>20800.000000</td>\n",
       "    </tr>\n",
       "  </tbody>\n",
       "</table>\n",
       "</div>"
      ],
      "text/plain": [
       "       Pricing_for_2  Dining_Rating  Dining_Review_Count  Delivery_Rating  \\\n",
       "count     201.000000     201.000000           201.000000       201.000000   \n",
       "mean      957.213930       4.156219          1497.263682         3.859701   \n",
       "std       354.556341       0.295928          1759.056769         0.532652   \n",
       "min       600.000000       3.400000             6.000000         0.000000   \n",
       "25%       700.000000       4.000000           348.000000         3.800000   \n",
       "50%       800.000000       4.200000           864.000000         3.900000   \n",
       "75%      1200.000000       4.400000          2249.000000         4.100000   \n",
       "max      1800.000000       4.900000         16300.000000         4.500000   \n",
       "\n",
       "       Delivery_Rating_Count  \n",
       "count             201.000000  \n",
       "mean             3938.517413  \n",
       "std              4502.253610  \n",
       "min                 0.000000  \n",
       "25%               966.000000  \n",
       "50%              2350.000000  \n",
       "75%              4911.000000  \n",
       "max             20800.000000  "
      ]
     },
     "execution_count": 382,
     "metadata": {},
     "output_type": "execute_result"
    }
   ],
   "source": [
    "selected_df.describe()[['Pricing_for_2','Dining_Rating','Dining_Review_Count', 'Delivery_Rating',\n",
    "       'Delivery_Rating_Count']]"
   ]
  },
  {
   "cell_type": "code",
   "execution_count": 390,
   "id": "db2fab75",
   "metadata": {},
   "outputs": [],
   "source": [
    "restaurant_list = selected_df[['Restaurant_Name','Address']]"
   ]
  },
  {
   "cell_type": "code",
   "execution_count": 391,
   "id": "2f4da4fe",
   "metadata": {},
   "outputs": [],
   "source": [
    "restaurant_list.to_excel(\"restaurant_zomato.xlsx\")"
   ]
  },
  {
   "cell_type": "code",
   "execution_count": 392,
   "id": "0a8360aa",
   "metadata": {},
   "outputs": [
    {
     "data": {
      "text/plain": [
       " Indiranagar, Bangalore          32\n",
       " Whitefield, Bangalore           25\n",
       " HSR, Bangalore                  24\n",
       " JP Nagar, Bangalore             21\n",
       " Marathahalli, Bangalore         16\n",
       " BTM, Bangalore                  15\n",
       " Sarjapur Road, Bangalore        12\n",
       " Electronic City, Bangalore       9\n",
       " Jayanagar, Bangalore             8\n",
       " Kalyan Nagar, Bangalore          8\n",
       " Yelahanka, Bangalore             8\n",
       " Bannerghatta Road, Bangalore     7\n",
       " New BEL Road, Bangalore          5\n",
       " Vijay Nagar, Bangalore           4\n",
       " Rajajinagar, Bangalore           4\n",
       " Banashankari, Bangalore          3\n",
       "Name: Locality, dtype: int64"
      ]
     },
     "execution_count": 392,
     "metadata": {},
     "output_type": "execute_result"
    }
   ],
   "source": [
    "selected_df.Locality.value_counts()"
   ]
  }
 ],
 "metadata": {
  "kernelspec": {
   "display_name": "Python 3",
   "language": "python",
   "name": "python3"
  },
  "language_info": {
   "codemirror_mode": {
    "name": "ipython",
    "version": 3
   },
   "file_extension": ".py",
   "mimetype": "text/x-python",
   "name": "python",
   "nbconvert_exporter": "python",
   "pygments_lexer": "ipython3",
   "version": "3.8.8"
  }
 },
 "nbformat": 4,
 "nbformat_minor": 5
}
